{
 "cells": [
  {
   "cell_type": "markdown",
   "id": "ea18bbaf-9e8f-47a1-9e41-97ae27a7b6ab",
   "metadata": {},
   "source": [
    "# <center>**Encoding data in BUFR PART 1** </center>"
   ]
  },
  {
   "cell_type": "markdown",
   "id": "c5d9c208-ea82-4ed2-97bc-f9bcc812b802",
   "metadata": {},
   "source": [
    "The goal of this notebook is to show how to encode a simple csv file with buoy wave data\n",
    "To do so we import the eccodes library and others ( pandas, datetime)"
   ]
  },
  {
   "cell_type": "code",
   "execution_count": 27,
   "id": "a2af56e4-2686-4c0f-8610-18123fabc50b",
   "metadata": {
    "editable": true,
    "slideshow": {
     "slide_type": ""
    },
    "tags": []
   },
   "outputs": [],
   "source": [
    "import eccodes as ecc\n",
    "import pandas as pd\n",
    "from datetime import datetime"
   ]
  },
  {
   "cell_type": "markdown",
   "id": "33e2ed2d-cfcc-4d20-a425-f5e0f12aa616",
   "metadata": {},
   "source": [
    "Now we have to read the csv into a pandas dataframe"
   ]
  },
  {
   "cell_type": "code",
   "execution_count": 28,
   "id": "89f8d9bd-9f4c-4ae8-bca4-00c6646fbe23",
   "metadata": {
    "editable": true,
    "slideshow": {
     "slide_type": ""
    },
    "tags": []
   },
   "outputs": [
    {
     "name": "stdout",
     "output_type": "stream",
     "text": [
      "      id       ymd  hhmm  latitude  longitude  wheight  avg_period  pressure\n",
      "0  41047  20250929  1810     27.56     -71.48      4.1         9.9    1009.4\n"
     ]
    }
   ],
   "source": [
    "obsFile=\"/home/marg/ECCODES_2025/ecTrain/nassau.csv\"\n",
    "df=pd.read_csv(obsFile)\n",
    "print(df.head())"
   ]
  },
  {
   "cell_type": "markdown",
   "id": "5aecb22c-c0ae-428e-884c-8d28ca150145",
   "metadata": {},
   "source": [
    "once we read the observations file we can create a function that encodes the dataframe into BUFR"
   ]
  },
  {
   "cell_type": "code",
   "execution_count": 29,
   "id": "bb3ab457-82e4-4e7e-b33c-57da2215f875",
   "metadata": {},
   "outputs": [],
   "source": [
    "def encode(df_obs,outputFile):\n",
    "    bid=ecc.codes_bufr_new_from_samples('BUFR4')\n",
    "    # here we create the handle to a bufr message using BUFR4 as a 'template'\n",
    "    ecc.codes_set(bid,'masterTablesVersionNumber',42)\n",
    "    ecc.codes_set(bid,'localTablesVersionNumber',0)\n",
    "    ecc.codes_set(bid,'compressedData',1)\n",
    "    ecc.codes_set(bid,'numberOfSubsets',1)\n",
    "    # here, we read the YMD and HHMM to build the time stamp\n",
    "    # this timestamp is used to populate the BUFR time keys\n",
    "    ymd=df_obs['ymd'].values[0]\n",
    "    hhmm=df_obs['hhmm'].values[0] \n",
    "    str_ymdhm=str(ymd)+str(hhmm)\n",
    "    timeStamp=datetime.strptime(str_ymdhm,'%Y%m%d%H%M')\n",
    "    ecc.codes_set(bid,\"typicalYear\",timeStamp.year)\n",
    "    ecc.codes_set(bid,\"typicalMonth\",timeStamp.month)\n",
    "    ecc.codes_set(bid,\"typicalDay\",timeStamp.day)\n",
    "    ecc.codes_set(bid,\"typicalHour\",timeStamp.hour)\n",
    "    ecc.codes_set(bid,\"typicalMinute\",timeStamp.minute)\n",
    "    # here we define the BUFR structure through the descriptors we want to use\n",
    "    unexpandedDescr=[ 1015,4001,4002,4003,4004,4005,\n",
    "                     5001,6001,22021,22011,10051]\n",
    "    ecc.codes_set_array(bid,'unexpandedDescriptors',unexpandedDescr)\n",
    "    stationId=str(df['id'].values[0])\n",
    "    ecc.codes_set(bid,'stationOrSiteName',stationId)\n",
    "    # populate the data section\n",
    "    ecc.codes_set(bid,\"year\",timeStamp.year)\n",
    "    ecc.codes_set(bid,\"month\",timeStamp.month)\n",
    "    ecc.codes_set(bid,\"day\",timeStamp.day)\n",
    "    ecc.codes_set(bid,\"hour\",timeStamp.hour)\n",
    "    ecc.codes_set(bid,\"minute\",timeStamp.minute)\n",
    "    lat=df_obs[\"latitude\"].values\n",
    "    lon=df_obs[\"longitude\"].values \n",
    "    height=df_obs['wheight'].values \n",
    "    period=df_obs['avg_period'].values \n",
    "    pressure=df_obs['pressure'].values\n",
    "    ecc.codes_set_array(bid,\"latitude\",lat)\n",
    "    ecc.codes_set_array(bid,\"longitude\",lon)\n",
    "    ecc.codes_set_array(bid,\"heightOfWaves\",height)\n",
    "    ecc.codes_set_array(bid,\"periodOfWaves\",period)\n",
    "    ecc.codes_set_array(bid,\"pressureReducedToMeanSeaLevel\",pressure)\n",
    "    ecc.codes_set(bid,'pack',1) \n",
    "    # here we pack the data and the descriptors \"so to speak\" so they can be written to the output file\n",
    "    with open(outputFile,'wb') as fout:\n",
    "        ecc.codes_write(bid,fout) # we use codes_write to copy the handle bid into the file obj fout\n",
    "    ecc.codes_release(bid)\n",
    "    print(f\"creating output bufr file : {outputFile}\")\n",
    "    return"
   ]
  },
  {
   "cell_type": "code",
   "execution_count": 30,
   "id": "7e48fb18-fb54-4cf8-b5f4-ab30c6e1468e",
   "metadata": {},
   "outputs": [
    {
     "name": "stdout",
     "output_type": "stream",
     "text": [
      "creating output bufr file : /home/marg/ECCODES_2025/ecTrain/nassau1.b\n"
     ]
    }
   ],
   "source": [
    "def main():\n",
    "    obsFile=\"/home/marg/ECCODES_2025/ecTrain/nassau.csv\"\n",
    "    df=pd.read_csv(obsFile)\n",
    "    outputBufrFile=\"/home/marg/ECCODES_2025/ecTrain/nassau1.b\"\n",
    "    encode(df,outputBufrFile)\n",
    "if __name__==\"__main__\":\n",
    "    main()"
   ]
  },
  {
   "cell_type": "code",
   "execution_count": 26,
   "id": "a0e115a8-b760-427b-b5b1-8bb606391935",
   "metadata": {},
   "outputs": [
    {
     "name": "stdout",
     "output_type": "stream",
     "text": [
      "creating output bufr file : /home/marg/ECCODES_2025/ecTrain/nassau1.b\n"
     ]
    }
   ],
   "source": [
    "def main():\n",
    "    obsFile=\"/home/marg/ECCODES_2025/ecTrain/nassau.csv\"\n",
    "    df=pd.read_csv(obsFile)\n",
    "    outputBufrFile=\"/home/marg/ECCODES_2025/ecTrain/nassau1.b\"\n",
    "    encode(df,outputBufrFile)\n",
    "if __name__==\"__main__\":\n",
    "    main()"
   ]
  },
  {
   "cell_type": "code",
   "execution_count": null,
   "id": "4227516d-27f1-452c-bf38-f1b0968991e9",
   "metadata": {
    "editable": true,
    "slideshow": {
     "slide_type": ""
    },
    "tags": []
   },
   "outputs": [],
   "source": []
  }
 ],
 "metadata": {
  "kernelspec": {
   "display_name": "Python 3.12.9-01",
   "language": "python",
   "name": "python3"
  },
  "language_info": {
   "codemirror_mode": {
    "name": "ipython",
    "version": 3
   },
   "file_extension": ".py",
   "mimetype": "text/x-python",
   "name": "python",
   "nbconvert_exporter": "python",
   "pygments_lexer": "ipython3",
   "version": "3.12.9"
  }
 },
 "nbformat": 4,
 "nbformat_minor": 5
}
