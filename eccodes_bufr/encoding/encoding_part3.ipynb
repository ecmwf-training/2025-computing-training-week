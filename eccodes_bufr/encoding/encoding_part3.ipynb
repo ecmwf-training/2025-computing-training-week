{
 "cells": [
  {
   "cell_type": "markdown",
   "id": "94241d08-25e5-45ce-bf0d-d677d124d831",
   "metadata": {
    "editable": true,
    "slideshow": {
     "slide_type": ""
    },
    "tags": []
   },
   "source": [
    "# <center>**Delayed replications**</center> "
   ]
  },
  {
   "cell_type": "markdown",
   "id": "7e697371-93b7-4f82-8f13-693847926042",
   "metadata": {},
   "source": [
    "In this case, we want to encode a variable number of observations. We will use delayed replication to do so. We are going to create a BUFR sounding by retrieving the data from the University of  Wyoming \n"
   ]
  },
  {
   "cell_type": "code",
   "execution_count": 76,
   "id": "f35d7220-cd90-4b3f-96e7-856875bca831",
   "metadata": {},
   "outputs": [],
   "source": [
    "import pandas as pd \n",
    "import eccodes as ecc\n",
    "import numpy as np\n",
    "from datetime import datetime\n"
   ]
  },
  {
   "cell_type": "code",
   "execution_count": 77,
   "id": "6d6d163f-b425-4700-a376-c708d5398142",
   "metadata": {},
   "outputs": [],
   "source": [
    "URL=\"https://weather.uwyo.edu/wsgi/sounding?datetime=2025-10-07%2000:00:00&id=72305&type=TEXT:CSV&src=BUFR\""
   ]
  },
  {
   "cell_type": "code",
   "execution_count": 78,
   "id": "007c820b-3992-4fbe-9541-a9dfc7ec6ff5",
   "metadata": {
    "editable": true,
    "slideshow": {
     "slide_type": ""
    },
    "tags": []
   },
   "outputs": [
    {
     "name": "stdout",
     "output_type": "stream",
     "text": [
      " number of measurements 5927\n"
     ]
    }
   ],
   "source": [
    "df_sounding=pd.read_csv(URL)\n",
    "print(f\" number of measurements {df_sounding.index.size}\")"
   ]
  },
  {
   "cell_type": "code",
   "execution_count": 79,
   "id": "54069aac-0c9c-4dde-8f00-982901d04943",
   "metadata": {},
   "outputs": [
    {
     "name": "stdout",
     "output_type": "stream",
     "text": [
      "Index(['time', 'longitude', 'latitude', 'pressure_hPa',\n",
      "       'geopotential height_m', 'temperature_C', 'dew point temperature_C',\n",
      "       'ice point temperature_C', 'relative humidity_%', 'humidity wrt ice_%',\n",
      "       'mixing ratio_g/kg', 'wind direction_degree', 'wind speed_m/s'],\n",
      "      dtype='object')\n"
     ]
    }
   ],
   "source": [
    "print(df_sounding.keys())"
   ]
  },
  {
   "cell_type": "code",
   "execution_count": 80,
   "id": "76a79785-c3b0-48c8-a0e1-66776826a115",
   "metadata": {},
   "outputs": [
    {
     "name": "stdout",
     "output_type": "stream",
     "text": [
      "                     time  longitude  latitude  pressure_hPa  temperature_C\n",
      "0     2025-10-06 23:09:56   -76.8777   34.7758        1023.0           22.6\n",
      "1     2025-10-06 23:09:57   -76.8778   34.7758        1022.0           22.7\n",
      "2     2025-10-06 23:09:58   -76.8779   34.7758        1021.1           22.9\n",
      "3     2025-10-06 23:09:59   -76.8779   34.7758        1020.2           23.0\n",
      "4     2025-10-06 23:10:00   -76.8780   34.7758        1019.2           23.1\n",
      "...                   ...        ...       ...           ...            ...\n",
      "5922  2025-10-07 00:48:38   -76.6612   34.5066          14.1          -48.1\n",
      "5923  2025-10-07 00:48:39   -76.6613   34.5066          14.1          -48.1\n",
      "5924  2025-10-07 00:48:40   -76.6613   34.5066          14.1          -48.1\n",
      "5925  2025-10-07 00:48:41   -76.6613   34.5066          14.0          -48.1\n",
      "5926  2025-10-07 00:48:42   -76.6614   34.5066          14.0          -48.0\n",
      "\n",
      "[5927 rows x 5 columns]\n"
     ]
    }
   ],
   "source": [
    "\n",
    "df=df_sounding[ ['time','longitude','latitude','pressure_hPa','temperature_C']]\n",
    "print(df)"
   ]
  },
  {
   "cell_type": "code",
   "execution_count": 86,
   "id": "9405af39-9ce8-41d4-9251-00e362daae6c",
   "metadata": {},
   "outputs": [
    {
     "name": "stdout",
     "output_type": "stream",
     "text": [
      " number of levels 30\n",
      "                    time  longitude  latitude  pressure_hPa  temperature_C\n",
      "0    2025-10-06 23:09:56   -76.8777   34.7758        1023.0           22.6\n",
      "200  2025-10-06 23:13:16   -76.8952   34.7800         902.9           15.6\n",
      "400  2025-10-06 23:16:36   -76.9043   34.7837         795.4           11.7\n",
      "600  2025-10-06 23:19:56   -76.9058   34.7864         704.0           10.1\n",
      "800  2025-10-06 23:23:16   -76.9010   34.7813         629.3            2.6\n"
     ]
    }
   ],
   "source": [
    "NN= 200# take level 0,600,1200 ... \n",
    "w_df=df[0::NN]\n",
    "w_df\n",
    "print(f\" number of levels {w_df.index.size}\")\n",
    "print(w_df.head())"
   ]
  },
  {
   "cell_type": "markdown",
   "id": "ab7063f3-82ee-46b3-9f2e-8d4f4a33aec5",
   "metadata": {},
   "source": [
    "To encode, we need a sequence of descriptors to use. We may need to convert some variables to the proper units ( pressure_hPa should be pressure in Pa for example). "
   ]
  },
  {
   "cell_type": "markdown",
   "id": "3478efcb-73f4-43eb-8ad6-0a72fe7a6184",
   "metadata": {},
   "source": [
    "<table>\n",
    "    <th>\n",
    "        <tr>\n",
    "           <td> variable</td> <td> bufr key</td><td>bufr descriptor </td>\n",
    "        </tr>\n",
    "    </th>\n",
    "    <tr>\n",
    "    <td> pressure</td><td> pressureReducedToMeanSeaLevel </td><td> 10051</td> </tr>\n",
    "    <td> temperature_C</td> <td> temperature</td><td>12023 in Celsius</td> </tr>\n",
    "    <tr><td> longitude</td><td> longitude</td><td> 6001</td></tr>\n",
    "    <tr><td> latitude</td><td> latitude</td><td>5001</td></tr>\n",
    "    <tr> <td> time </td> <td> combination of descriptors </td><td>4001, 4002 ...</td></tr>\n",
    "</table>"
   ]
  },
  {
   "cell_type": "markdown",
   "id": "30951e7a-92b6-433e-ad86-9f5ace3a5ef1",
   "metadata": {},
   "source": [
    "As we may not know the number of levels, we can use delayed replications to make the sequence flexible. To this end, we "
   ]
  },
  {
   "cell_type": "code",
   "execution_count": 87,
   "id": "37ee0e0e-6e3c-41ee-9fa7-98dcc47a1767",
   "metadata": {},
   "outputs": [],
   "source": [
    "def encode_sounding(df,outputFilename):\n",
    "    nlevels=df.index.size\n",
    "    print(f\" number of levels : {nlevels}\")\n",
    "    #get the handle to the bufr message\n",
    "    bid=ecc.codes_bufr_new_from_samples('BUFR4')\n",
    "    #populate the header keys TablesVersion etc\n",
    "    ecc.codes_set(bid,'masterTablesVersionNumber',42)\n",
    "    ecc.codes_set(bid,'localTablesVersionNumber',0)\n",
    "    # IMPORTANT populate the inputDelayedDescriptorReplicationFactor before the unexpandedDescriptors \n",
    "    # as this information will be in the data section ( section 4) \n",
    "    ecc.codes_set_array(bid,'inputDelayedDescriptorReplicationFactor',(nlevels,))\n",
    "    ecc.codes_set(bid,'numberOfSubsets',1)\n",
    "    ecc.codes_set(bid,\"compressedData\",0) # I decided to use compressedData=0\n",
    "    unexpandedDesc=[ 109000,31001, 4001,4002,4003,4004,4005,5001,6001,10051,12023]\n",
    "    ecc.codes_set_array(bid,'unexpandedDescriptors',unexpandedDesc)\n",
    "    # iterate over the dataframe selecting one row at the time and populating the corresponding keys\n",
    "    k=1 # will be the key rank\n",
    "    for i,row in df.iterrows():\n",
    "        dtTime=datetime.strptime(row['time'],'%Y-%m-%d %H:%M:%S')\n",
    "        ecc.codes_set(bid,f\"#{k}#year\",dtTime.year)\n",
    "        ecc.codes_set(bid,f\"#{k}#month\",dtTime.month)\n",
    "        ecc.codes_set(bid,f\"#{k}#day\",dtTime.day)\n",
    "        ecc.codes_set(bid,f\"#{k}#hour\",dtTime.hour)\n",
    "        ecc.codes_set(bid,f\"#{k}#minute\",dtTime.minute)\n",
    "        \n",
    "        lat=row['latitude']\n",
    "        lon=row['longitude']\n",
    "        HPA_TO_PA=100 # convert HPA to PA\n",
    "        pressure=row['pressure_hPa']*HPA_TO_PA\n",
    "        tempC=row['temperature_C']\n",
    "        # each key has its own rank #2#latitude etc \n",
    "        ecc.codes_set(bid,f'#{k}#latitude',lat)\n",
    "        ecc.codes_set(bid,f\"#{k}#longitude\",lon)\n",
    "        ecc.codes_set(bid,f\"#{k}#pressureReducedToMeanSeaLevel\",pressure)\n",
    "        ecc.codes_set(bid,f\"#{k}#temperature\",tempC)\n",
    "        k+=1 # set the next key number           \n",
    "    # close the message by calling pack\n",
    "    ecc.codes_set(bid,'pack',1)\n",
    "    # write to the output file\n",
    "    with open(outputFilename,'wb') as fout:\n",
    "        ecc.codes_write(bid,fout)\n",
    "    ecc.codes_release(bid)# IMPORTANT TO RELEASE THE BUFR HANDLE TO AVOID MEMORY LEAKS\n",
    "    print(f\" creating output BUFR file {outputFilename}\")\n",
    "    return"
   ]
  },
  {
   "cell_type": "code",
   "execution_count": 88,
   "id": "0f0e1709-7bf3-4fcb-a044-0252debbf80c",
   "metadata": {},
   "outputs": [
    {
     "name": "stdout",
     "output_type": "stream",
     "text": [
      " number of levels : 30\n",
      " creating output BUFR file sounding.b\n"
     ]
    }
   ],
   "source": [
    "def main():\n",
    "    outputFile='sounding.b'\n",
    "    encode_sounding(w_df,outputFile)\n",
    "\n",
    "if __name__==\"__main__\":\n",
    "    main()"
   ]
  },
  {
   "cell_type": "code",
   "execution_count": 49,
   "id": "3c8076ed-0630-4d4b-b503-1e1a121c979a",
   "metadata": {
    "editable": true,
    "slideshow": {
     "slide_type": ""
    },
    "tags": []
   },
   "outputs": [
    {
     "name": "stdout",
     "output_type": "stream",
     "text": [
      "/usr/bin/bash: bufr_dump: command not found\n"
     ]
    }
   ],
   "source": [
    "!bufr_dump sounding.b"
   ]
  },
  {
   "cell_type": "code",
   "execution_count": null,
   "id": "b1897b7a-74a5-44d6-af7c-54ecda0eaa8a",
   "metadata": {},
   "outputs": [],
   "source": []
  }
 ],
 "metadata": {
  "kernelspec": {
   "display_name": "Python 3.12.9-01",
   "language": "python",
   "name": "python3"
  },
  "language_info": {
   "codemirror_mode": {
    "name": "ipython",
    "version": 3
   },
   "file_extension": ".py",
   "mimetype": "text/x-python",
   "name": "python",
   "nbconvert_exporter": "python",
   "pygments_lexer": "ipython3",
   "version": "3.12.9"
  }
 },
 "nbformat": 4,
 "nbformat_minor": 5
}
