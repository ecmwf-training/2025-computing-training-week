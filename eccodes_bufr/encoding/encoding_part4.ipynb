{
 "cells": [
  {
   "cell_type": "markdown",
   "id": "0ce341e8-f2bd-4369-ab34-b8cc759061f7",
   "metadata": {
    "editable": true,
    "slideshow": {
     "slide_type": ""
    },
    "tags": []
   },
   "source": [
    "# <center>**Bitmap adding quality information**</center>"
   ]
  },
  {
   "cell_type": "markdown",
   "id": "c0a6ab04-5fe9-408b-8520-687151ef3e07",
   "metadata": {},
   "source": [
    "In this case we want to add some extra information (error) to some keys of our message. To do this we need to define a **bitmap** prior to setting the **unexpandedDescriptors**.\n",
    "If we use delayed replication, these replications must be defined before we set the unexpandedDescriptors. \n",
    "If we are using compressed or uncompressed data  (compressedData=1/0) this has an effect on the way we define the bitmap "
   ]
  },
  {
   "cell_type": "code",
   "execution_count": 10,
   "id": "062598c5-9b71-4f68-af71-08fd983def1a",
   "metadata": {},
   "outputs": [],
   "source": [
    "import eccodes as ecc\n",
    "import numpy as np\n",
    "import pandas as pd\n",
    "from datetime import datetime "
   ]
  },
  {
   "cell_type": "code",
   "execution_count": 11,
   "id": "7d9f24d0-e2a5-42c5-af5f-f9a79503bd93",
   "metadata": {},
   "outputs": [
    {
     "name": "stdout",
     "output_type": "stream",
     "text": [
      "      id       ymd  hhmm  latitude  longitude  wheight  avg_period  pressure  \\\n",
      "0  41047  20250929  1810     27.56     -71.48      4.1         9.9    1009.4   \n",
      "1  40081  20250929  1915     28.01     -72.00      4.4         9.2    1002.4   \n",
      "2  42052  20250929  2015     27.20     -73.40      4.3         9.7    1001.4   \n",
      "3  40087  20250929  2310     27.20     -72.90      4.2         9.8    1001.4   \n",
      "\n",
      "   pressure_err  \n",
      "0           125  \n",
      "1           150  \n",
      "2           147  \n",
      "3           147  \n"
     ]
    }
   ],
   "source": [
    "inputFile=\"/home/marg/ECCODES_2025/ecTrain/bitmap.csv\"\n",
    "df=pd.read_csv(inputFile)\n",
    "print(df.head())"
   ]
  },
  {
   "cell_type": "code",
   "execution_count": 12,
   "id": "0d225173-7e3d-4e2c-a7b2-41e0fa951ffa",
   "metadata": {
    "editable": true,
    "slideshow": {
     "slide_type": ""
    },
    "tags": []
   },
   "outputs": [
    {
     "name": "stdout",
     "output_type": "stream",
     "text": [
      " bitmap size :  44 \n",
      " bit map [1 1 1 1 1 1 1 1 1 1 0 1 1 1 1 1 1 1 1 1 1 0 1 1 1 1 1 1 1 1 1 1 0 1 1 1 1\n",
      " 1 1 1 1 1 1 0]\n",
      " encoded bufr into file : /home/marg/ECCODES_2025/ecTrain/bitmap.b\n"
     ]
    }
   ],
   "source": [
    "def bufr_encode(df,outputFile):\n",
    "    SEQUENCE_LENGTH=11 # found by counting the unexpandedDescriptors \n",
    "    nobs=df.index.size\n",
    "    bid = ecc.codes_bufr_new_from_samples('BUFR4')\n",
    "    ecc.codes_set(bid, 'edition', 4)\n",
    "    dpi=np.array([1,1,1,1,1,1,1,1,1,1,0],dtype=int)\n",
    "    dpi=np.tile(dpi,nobs)\n",
    "    print(f\" bitmap size :  {dpi.size} \\n bit map {dpi}\")\n",
    "    ecc.codes_set_array(bid, 'inputDataPresentIndicator', dpi)\n",
    "    \n",
    "    delayedRep=np.array([nobs,nobs*SEQUENCE_LENGTH,nobs])\n",
    "    ecc.codes_set_array(bid, 'inputDelayedDescriptorReplicationFactor', delayedRep)\n",
    "    \n",
    "    \n",
    "    ecc.codes_set(bid, 'masterTablesVersionNumber', 42)\n",
    "    ecc.codes_set(bid,'numberOfSubsets',nobs) # important to set the number of subsets \n",
    "    unexpandedDesc = (\n",
    "        111000, 31001, 1015, 4001, 4002,\n",
    "        4003, 4004, 4005, 5001, 6001,\n",
    "        22021, 22011, 10051, 224000, 236000,\n",
    "        101000, 31001, 31031, 8023, 101000,\n",
    "        31001, 224255,) # 22 descriptors\n",
    "    ecc.codes_set(bid, 'compressedData', 1) # compressed data \n",
    "\n",
    "    # Create the structure of the data section\n",
    "    ecc.codes_set_array(bid, 'unexpandedDescriptors', unexpandedDesc)\n",
    "    timeStamps= [ datetime.strptime(f\"{x}{y}\",'%Y%m%d%H%M') for x,y in zip(df['ymd'].values,df['hhmm'].values) ]\n",
    "    \n",
    "    stations= [str(x) for x in df['id'].values]\n",
    "    for i in range(0,nobs): \n",
    "        ecc.codes_set(bid,f\"#{i+1}#stationOrSiteName\",stations[i])\n",
    "        ecc.codes_set(bid,f\"#{i+1}#year\",timeStamps[i].year)\n",
    "        ecc.codes_set(bid,f\"#{i+1}#month\",timeStamps[i].month)\n",
    "        ecc.codes_set(bid,f\"#{i+1}#day\",timeStamps[i].day)\n",
    "        ecc.codes_set(bid,f\"#{i+1}#hour\",timeStamps[i].hour)\n",
    "        ecc.codes_set(bid,f\"#{i+1}#minute\",timeStamps[i].minute)\n",
    "        ecc.codes_set(bid,f\"#{i+1}#latitude\",df['latitude'].values[i])\n",
    "        ecc.codes_set(bid,f\"#{i+1}#longitude\",df['longitude'].values[i])\n",
    "        ecc.codes_set(bid,f\"#{i+1}#heightOfWaves\",df['wheight'].values[i])\n",
    "        ecc.codes_set(bid,f\"#{i+1}#periodOfWaves\",df['avg_period'].values[i])\n",
    "        ecc.codes_set(bid,f\"#{i+1}#pressureReducedToMeanSeaLevel\",df['pressure'].values[i])\n",
    "        ecc.codes_set(bid,f\"#{i+1}#pressureReducedToMeanSeaLevel->firstOrderStatisticalValue\",df['pressure_err'].values[i])\n",
    "    ecc.codes_set(bid,'firstOrderStatistics',9)    #set fos to best estimate of standard deviation\n",
    "    #close and release\n",
    "    ecc.codes_set(bid,\"pack\",1)\n",
    "    with open(outputFile,'wb') as fout:\n",
    "        ecc.codes_write(bid,fout)\n",
    "    print(f\" encoded bufr into file : {outputFile}\")\n",
    "    ecc.codes_release(bid)\n",
    "    return \n",
    "\n",
    "\n",
    "def main():\n",
    "    inputFile=\"/home/marg/ECCODES_2025/ecTrain/bitmap.csv\"\n",
    "    outputFile=\"/home/marg/ECCODES_2025/ecTrain/bitmap.b\"\n",
    "    df=pd.read_csv(inputFile)\n",
    "    bufr_encode(df,outputFile)\n",
    "\n",
    "if __name__==\"__main__\":\n",
    "    main()\n",
    "    "
   ]
  },
  {
   "cell_type": "markdown",
   "id": "8dae5afd-d5f2-47e3-8ca0-af59bf16106a",
   "metadata": {},
   "source": [
    "If we want to add statistical information to other keys, we just need to add more zeros (0) to the bitmap and close the accordingly at the end providing as many 224255 as 0 we have in our bitmap. "
   ]
  },
  {
   "cell_type": "code",
   "execution_count": 13,
   "id": "4287d8f1-c870-49ed-8f30-1cccad563c90",
   "metadata": {},
   "outputs": [
    {
     "name": "stdout",
     "output_type": "stream",
     "text": [
      " number of obs: 4\n",
      " bitmap size :  4 \n",
      " bit map [1 1 0 0]\n",
      " encoded bufr into file : /home/marg/ECCODES_2025/ecTrain/bitmap_2e.b\n"
     ]
    }
   ],
   "source": [
    "def bufr_encode_with2e(df,outputFile):\n",
    "   \n",
    "    nobs=df.index.size\n",
    "    print(f\" number of obs: {nobs}\")\n",
    "    bid = ecc.codes_bufr_new_from_samples('BUFR4')\n",
    "    ecc.codes_set(bid, 'edition', 4)\n",
    "    ## define the bitmap to affect the last 2 keys\n",
    "    dpi=np.array([1,1,0,0],dtype=int)\n",
    "    \n",
    "    print(f\" bitmap size :  {dpi.size} \\n bit map {dpi}\")\n",
    "    ecc.codes_set_array(bid, 'inputDataPresentIndicator', dpi)\n",
    "    # replications  nobs-> for the levels  2 *nobs to set two 0s for 4 obs \n",
    "    delayedRep=np.array([nobs,2])\n",
    "    ecc.codes_set_array(bid, 'inputDelayedDescriptorReplicationFactor', delayedRep)\n",
    "    \n",
    "    \n",
    "    ecc.codes_set(bid, 'masterTablesVersionNumber', 42)\n",
    "    ecc.codes_set(bid,'numberOfSubsets',nobs) # important to set the number of subsets \n",
    "    ecc.codes_set(bid,\"compressedData\",1)\n",
    "    unexpandedDesc = (\n",
    "        1015, 4001, 4002,\n",
    "        4003, 4004, 4005, 5001, 6001,\n",
    "        22021,22011, 10051,224000,236000,101000,31001,31031,8023,101000,31001,224255)\n",
    "     \n",
    "        #,224000, 236000,\n",
    "        #101000, 31001, 31031, 8023, 101000,\n",
    "        #31001, 224255,) # 22 values\n",
    "    ecc.codes_set(bid, 'compressedData', 1) # compressed data \n",
    "\n",
    "    # Create the structure of the data section\n",
    "    ecc.codes_set_array(bid, 'unexpandedDescriptors', unexpandedDesc)\n",
    "    timeStamps= [ datetime.strptime(f\"{x}{y}\",'%Y%m%d%H%M') for x,y in zip(df['ymd'].values,df['hhmm'].values) ]\n",
    "    stations= [str(x) for x in df['id'].values] \n",
    "    ecc.codes_set_array(bid,\"stationOrSiteName\",stations)  \n",
    "    ecc.codes_set_array(bid,'year',[t.year for t in timeStamps] )\n",
    "    ecc.codes_set_array(bid,'month',[t.month for t in timeStamps])\n",
    "    ecc.codes_set_array(bid,'day',[t.day for t in timeStamps])\n",
    "    ecc.codes_set_array(bid,'hour',[t.hour for t in timeStamps])\n",
    "    ecc.codes_set_array(bid,'minute',[t.minute for t in timeStamps])\n",
    "    ecc.codes_set_array(bid,'latitude',df['latitude'].values)\n",
    "    ecc.codes_set_array(bid,'longitude',df['longitude'].values)\n",
    "   \n",
    "    ecc.codes_set_array(bid,'heightOfWaves',df['wheight'].values)\n",
    "    ecc.codes_set_array(bid,'periodOfWaves',df['avg_period'].values)\n",
    "    ecc.codes_set_array(bid,'pressureReducedToMeanSeaLevel',df['pressure'].values)\n",
    "    ecc.codes_set_array(bid,'pressureReducedToMeanSeaLevel->firstOrderStatisticalValue',df['pressure_err'].values)\n",
    "    ecc.codes_set_array(bid,'periodOfWaves->firstOrderStatisticalValue',2*np.ones(nobs))\n",
    "    ecc.codes_set(bid,'firstOrderStatistics',9) # set the fos to 9 best estimate of standard deviation\n",
    "    #close and release\n",
    "    ecc.codes_set(bid,\"pack\",1)\n",
    "    with open(outputFile,'wb') as fout:\n",
    "        ecc.codes_write(bid,fout)\n",
    "    print(f\" encoded bufr into file : {outputFile}\")\n",
    "    ecc.codes_release(bid)\n",
    "    return \n",
    "\n",
    "\n",
    "def main():\n",
    "    inputFile=\"/home/marg/ECCODES_2025/ecTrain/bitmap.csv\"\n",
    "    outputFile=\"/home/marg/ECCODES_2025/ecTrain/bitmap_2e.b\"\n",
    "    df=pd.read_csv(inputFile)\n",
    "    bufr_encode_with2e(df,outputFile)\n",
    "\n",
    "if __name__==\"__main__\":\n",
    "    main()"
   ]
  },
  {
   "attachments": {},
   "cell_type": "markdown",
   "id": "6b08a6dc-0df0-4b03-a0a2-692b054feba5",
   "metadata": {},
   "source": [
    "The possible values for the first order statistics 8023\n",
    "2 Maximum value\n",
    "3 Minimum value\n",
    "4 Mean value\n",
    "...\n",
    "\n",
    "9 best estimate of standard deviation ( N-1) "
   ]
  },
  {
   "cell_type": "code",
   "execution_count": null,
   "id": "b33daf61-0885-4100-91e9-4da75d425021",
   "metadata": {},
   "outputs": [],
   "source": []
  }
 ],
 "metadata": {
  "kernelspec": {
   "display_name": "Python 3.12.9-01",
   "language": "python",
   "name": "python3"
  },
  "language_info": {
   "codemirror_mode": {
    "name": "ipython",
    "version": 3
   },
   "file_extension": ".py",
   "mimetype": "text/x-python",
   "name": "python",
   "nbconvert_exporter": "python",
   "pygments_lexer": "ipython3",
   "version": "3.12.9"
  }
 },
 "nbformat": 4,
 "nbformat_minor": 5
}
