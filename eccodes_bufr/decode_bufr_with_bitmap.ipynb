{
 "cells": [
  {
   "cell_type": "markdown",
   "id": "cd032fbc-03f4-4caa-a4d9-4695bf13c19e",
   "metadata": {},
   "source": [
    "# BUFR Message: Decoding BUFR \n",
    "\n",
    "This notebook demonstrates how to decode BUFR message using the `eccodes` library.\n",
    "\n",
    "\n"
   ]
  },
  {
   "cell_type": "markdown",
   "id": "4d59a6cb-3160-4120-90b0-665aace25441",
   "metadata": {},
   "source": [
    "## Explore a BUFR message with comand bufr_ls\n",
    "\n",
    "### bufr_ls -p masterTablesVersionNumber bitmap.bufr \n",
    "\n",
    ">  masterTablesVersionNumber   \n",
    "     39                                               \n",
    "       \n",
    "### bufr_ls -p center,localTablesVersionNumber bitmap.bufr\n",
    "> center            localTablesVersionNumber   \n",
    "     ecmwf                        0"
   ]
  },
  {
   "cell_type": "markdown",
   "id": "a7b154c5-5066-43be-a877-660c89d0ef2b",
   "metadata": {},
   "source": [
    "## Explore a BUFR message with comand bufr_dump\n",
    "\n",
    "### bufr_dump -p  bitmap.bufr \n",
    "\n",
    ">dataCategory=5 <br>\n",
    "internationalDataSubCategory=255 <br>\n",
    "dataSubCategory=0 <br>\n",
    "masterTablesVersionNumber=39 <br>\n",
    "localTablesVersionNumber=0 <br>\n",
    "typicalYear=2025 <br>\n",
    "typicalMonth=11 <br>\n",
    "typicalDay=9 <br>\n",
    "typicalHour=11 <br>\n",
    "typicalMinute=55 <br>\n",
    "typicalSecond=5 <br>\n",
    "numberOfSubsets=1 <br>\n",
    "observedData=1 <br>\n",
    "compressedData=1 <br>\n",
    "unexpandedDescriptors={\n",
    "      001001, 001002, 004001, 004002, 004003, 004004, 004005, 005001, 006002, 011001, \n",
    "      011002, 222000, 236000, 101004, 031031, 033007  }\n",
    "\n",
    "\n"
   ]
  },
  {
   "cell_type": "markdown",
   "id": "ad1fc626-ef22-41fc-b59a-25c314aef3c6",
   "metadata": {},
   "source": [
    "\n",
    "## Setup enviroment\n",
    "First, we'll install and import the required libraries."
   ]
  },
  {
   "cell_type": "code",
   "execution_count": 1,
   "id": "2c5ccba8-8cbc-4723-ae5a-3f345af956a5",
   "metadata": {},
   "outputs": [],
   "source": [
    "from eccodes import *\n",
    "import numpy as np\n",
    "import pandas as pd\n",
    "import os"
   ]
  },
  {
   "cell_type": "markdown",
   "id": "72ebffb3-743c-4bae-bef5-92ba2718007b",
   "metadata": {},
   "source": [
    "## Welcome to BUFR world\n",
    "These functions will help us process the BUFR messages."
   ]
  },
  {
   "cell_type": "code",
   "execution_count": 16,
   "id": "bdbb82cc-6662-422b-899d-a6fab4a0621d",
   "metadata": {},
   "outputs": [],
   "source": [
    "def read_bufr_message(file_path):\n",
    "    \"\"\"\n",
    "    Read a BUFR message from a file.\n",
    "    \n",
    "    Args:\n",
    "        file_path (str): Path to the BUFR file\n",
    "                \n",
    "    Returns:\n",
    "        eccodes.BufrMessage: BUFR message object\n",
    "    \"\"\"\n",
    "    with open(file_path, 'rb') as f:\n",
    "        bufr = eccodes.codes_bufr_new_from_file(f)\n",
    "        if bufr is None:\n",
    "            raise ValueError(f\"Failed to load BUFR message {message_number} from {file_path}\")\n",
    "        return bufr\n",
    "\n",
    "def decode_bufr_message(bufr):\n",
    "    \"\"\"\n",
    "    Decode a BUFR message and extract key metadata and observations.\n",
    "    \n",
    "    Args:\n",
    "        bufr: BUFR message object\n",
    "        \n",
    "    Returns:\n",
    "        dict: Dictionary containing decoded data\n",
    "    \"\"\"\n",
    "    # Decode the message\n",
    "    eccodes.codes_set(bufr, 'unpack', 1)\n",
    "      \n",
    "    \n",
    "    # Extract  meteorological parameters\n",
    "    try:\n",
    "        data = {\n",
    "            'masterTablesVersionNumber': eccodes.codes_get(bufr, 'masterTablesVersionNumber'),\n",
    "            'dataCategory': eccodes.codes_get(bufr, 'dataCategory'),\n",
    "            'typicalDate': eccodes.codes_get(bufr, 'typicalDate'),\n",
    "            'typicalTime': eccodes.codes_get(bufr, 'typicalTime'),\n",
    "            'latitude': eccodes.codes_get(bufr, 'latitude'),\n",
    "            'longitude': eccodes.codes_get(bufr, 'longitude'),           \n",
    "            'wind direction': eccodes.codes_get(bufr, 'windDirection'),\n",
    "            'wind direction percent confidence': eccodes.codes_get(bufr, 'windDirection->percentConfidence'),\n",
    "            'wind speed': eccodes.codes_get(bufr, 'windSpeed'),\n",
    "        }\n",
    "    except Exception as e:\n",
    "        print(f\"Warning: Not all parameters could be extracted: {str(e)}\")\n",
    "          \n",
    "  \n",
    "    return {'data': data}\n",
    "\n"
   ]
  },
  {
   "cell_type": "markdown",
   "id": "79a96960-5765-4e95-88e3-597db25b8431",
   "metadata": {},
   "source": [
    "## Process BUFR File\n",
    "Now we can process a BUFR file and analyze its contents."
   ]
  },
  {
   "cell_type": "code",
   "execution_count": 18,
   "id": "96499393-a197-47ea-b411-d6020928a1e2",
   "metadata": {},
   "outputs": [
    {
     "data": {
      "text/html": [
       "<div>\n",
       "<style scoped>\n",
       "    .dataframe tbody tr th:only-of-type {\n",
       "        vertical-align: middle;\n",
       "    }\n",
       "\n",
       "    .dataframe tbody tr th {\n",
       "        vertical-align: top;\n",
       "    }\n",
       "\n",
       "    .dataframe thead th {\n",
       "        text-align: right;\n",
       "    }\n",
       "</style>\n",
       "<table border=\"1\" class=\"dataframe\">\n",
       "  <thead>\n",
       "    <tr style=\"text-align: right;\">\n",
       "      <th></th>\n",
       "      <th>data</th>\n",
       "    </tr>\n",
       "  </thead>\n",
       "  <tbody>\n",
       "    <tr>\n",
       "      <th>masterTablesVersionNumber</th>\n",
       "      <td>39</td>\n",
       "    </tr>\n",
       "    <tr>\n",
       "      <th>dataCategory</th>\n",
       "      <td>5</td>\n",
       "    </tr>\n",
       "    <tr>\n",
       "      <th>typicalDate</th>\n",
       "      <td>20251009</td>\n",
       "    </tr>\n",
       "    <tr>\n",
       "      <th>typicalTime</th>\n",
       "      <td>115505</td>\n",
       "    </tr>\n",
       "    <tr>\n",
       "      <th>latitude</th>\n",
       "      <td>50.07</td>\n",
       "    </tr>\n",
       "    <tr>\n",
       "      <th>longitude</th>\n",
       "      <td>14.43</td>\n",
       "    </tr>\n",
       "    <tr>\n",
       "      <th>wind direction</th>\n",
       "      <td>208</td>\n",
       "    </tr>\n",
       "    <tr>\n",
       "      <th>wind direction percent confidence</th>\n",
       "      <td>82</td>\n",
       "    </tr>\n",
       "    <tr>\n",
       "      <th>wind speed</th>\n",
       "      <td>10.0</td>\n",
       "    </tr>\n",
       "  </tbody>\n",
       "</table>\n",
       "</div>"
      ],
      "text/plain": [
       "                                       data\n",
       "masterTablesVersionNumber                39\n",
       "dataCategory                              5\n",
       "typicalDate                        20251009\n",
       "typicalTime                          115505\n",
       "latitude                              50.07\n",
       "longitude                             14.43\n",
       "wind direction                          208\n",
       "wind direction percent confidence        82\n",
       "wind speed                             10.0"
      ]
     },
     "metadata": {},
     "output_type": "display_data"
    }
   ],
   "source": [
    "# Specify your BUFR file path\n",
    "bufr_file=\"/Users/mamc/tutorial/bin/training-bufr/bitmap.bufr\"\n",
    "\n",
    "# Read and decode the BUFR message\n",
    "bufr = read_bufr_message(bufr_file)\n",
    "\n",
    "# Decode the BUFR message\n",
    "decoded_data = decode_bufr_message(bufr)\n",
    "\n",
    "\n",
    "# Convert decoded BUFR data into a pandas DataFrame\n",
    "df = pd.DataFrame(decoded_data)\n",
    "\n",
    "display(df)\n",
    "\n",
    "# Decode Bit-Map values\n",
    "#bitmap = eccodes.codes_get_array(bufr, 'dataPresentIndicator')\n",
    "#print(\"Bit-Map  \",bitmap)\n",
    "\n",
    "# Clean up\n",
    "eccodes.codes_release(bufr)"
   ]
  },
  {
   "attachments": {},
   "cell_type": "markdown",
   "id": "3491af47-2a13-44c2-8c27-34be6022fc4c",
   "metadata": {},
   "source": [
    "## Quality information using Bitmap\n",
    "### Let's undersand meaning of these attributed to BUFR meteorological variables.\n",
    " We look first at the BUFR template definition. We can find this information in unexpandedDescriptors. \n",
    "  \n",
    "\n",
    "222000 - Quality information to follow for the elements in class 33 <br>\n",
    "236000 - Define data present bit-map <br> \n",
    "101004 - Replicate 1 descriptor 4 times <br>\n",
    "031031 - Data present indicator <br>\n",
    "033007 - Per centage confidence <br>\n",
    "\n",
    "Element **031031 - Data present indicator** is defined as 0 or 1. <br>\n",
    "We decode its value with\n",
    ">  **codes_get(bufr, 'dataPresentIndicator')**\n",
    "\n",
    "The values in our BUFR file   \n",
    "> \t1 1 0 1\n",
    "    0 = Data present\n",
    "    1 = Data not present; \n",
    "\n",
    "To obtain info of quality control indicator related to windDirection\n",
    ">**codes_get(bufr, 'windDirection->percentConfidence)**\n",
    "\n",
    "The value in our BUFR file is **82**, which correspond to \n",
    "> 82 % ;\n"
   ]
  },
  {
   "cell_type": "markdown",
   "id": "7c4fab47-e9f8-4c0b-b16f-7df21034e021",
   "metadata": {},
   "source": [
    "## Decode BUFR File\n",
    "Using bufr_dump - Dpython "
   ]
  },
  {
   "cell_type": "markdown",
   "id": "dd0aaf27-ba97-4e17-9d5b-45e29e9cedc7",
   "metadata": {},
   "source": [
    "> bufr_dump -Dpython my.bufr >sample_decode.py  "
   ]
  }
 ],
 "metadata": {
  "kernelspec": {
   "display_name": "Python (tutorial)",
   "language": "python",
   "name": "tutorial"
  },
  "language_info": {
   "codemirror_mode": {
    "name": "ipython",
    "version": 3
   },
   "file_extension": ".py",
   "mimetype": "text/x-python",
   "name": "python",
   "nbconvert_exporter": "python",
   "pygments_lexer": "ipython3",
   "version": "3.13.5"
  }
 },
 "nbformat": 4,
 "nbformat_minor": 5
}
