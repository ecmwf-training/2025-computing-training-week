{
 "cells": [
  {
   "cell_type": "markdown",
   "id": "99b8444d",
   "metadata": {},
   "source": [
    "## Data from different sources\n",
    "\n",
    "In this notebook, we will compare global temperature anomalies from two datasets:\n",
    "- [ERA5 reanalysis](https://cds.climate.copernicus.eu/datasets/reanalysis-era5-single-levels-monthly-means?tab=download) from **ECMWF**, available through the Climate Data Store.\n",
    "- [HADCRUT5](https://www.metoffice.gov.uk/hadobs/hadcrut5/data/HadCRUT.5.1.0.0/download.html), a dataset of global historical surface temperature anomalies from the **UK Met Office**, available on their website as a direct download.\n",
    "\n",
    "We will then compare the anomalies from each of these datasets for **July 2024** - one of the hottest months on record globally.\n",
    "\n",
    "### The bigger picture\n",
    "\n",
    "This notebook demonstrates that we can get data from:\n",
    "- Two different institutions (ECMWF and the UK Met Office)\n",
    "- From two different source (CDS and URL)\n",
    "- In two different formats (GRIB and netCDF)\n",
    "- And that the earthkit ecosystem will treat them as \"equal citizens\", with earthkit tools working with the same API in both cases.\n",
    "\n",
    "### Components of earthkit\n",
    "\n",
    "This tutorial uses the following earthkit components - click any logo to open the package documentation:\n",
    "\n",
    "<div align=\"center\">\n",
    "  <br>\n",
    "  <a href=\"https://earthkit-data.readthedocs.io/en/latest/\" target=\"_blank\" style=\"display:inline-block; margin: 0 15px;\">\n",
    "    <img src=\"https://raw.githubusercontent.com/ecmwf/logos/refs/heads/main/logos/earthkit/earthkit-data-light.svg\" alt=\"earthkit-data\" width=\"200\">\n",
    "  </a>\n",
    "  <a href=\"https://earthkit-transforms.readthedocs.io/en/latest/\" target=\"_blank\" style=\"display:inline-block; margin: 0 15px;\">\n",
    "    <img src=\"https://raw.githubusercontent.com/ecmwf/logos/refs/heads/main/logos/earthkit/earthkit-transforms-light.svg\" alt=\"earthkit-transforms\" width=\"200\">\n",
    "  </a>\n",
    "  <a href=\"https://earthkit-plots.readthedocs.io/en/latest/\" target=\"_blank\" style=\"display:inline-block; margin: 0 15px;\">\n",
    "    <img src=\"https://raw.githubusercontent.com/ecmwf/logos/refs/heads/main/logos/earthkit/earthkit-plots-light.svg\" alt=\"earthkit-plots\" width=\"200\">\n",
    "  </a>\n",
    "</div>\n",
    "\n",
    "By importing `earthkit`, we get access to all of these tools with a single import."
   ]
  },
  {
   "cell_type": "code",
   "execution_count": null,
   "id": "e7057fbc",
   "metadata": {},
   "outputs": [],
   "source": [
    "import earthkit as ek"
   ]
  },
  {
   "cell_type": "markdown",
   "id": "271b4884",
   "metadata": {},
   "source": [
    "### 1. Getting the data\n",
    "\n",
    "Let's do a comparison of the temperature anomalies for **July 2024** (one of the hottest months on record globally) from ERA5 and HADCRUT5.\n",
    "\n",
    "#### 1.1 ERA5\n",
    "\n",
    "In order to get temperature anomalies for July 2024 from ERA5, we need to acces the [ERA5 monthly averaged reanalysis](https://cds.climate.copernicus.eu/datasets/reanalysis-era5-single-levels-monthly-means?tab=download) dataset from the CDS.\n",
    "\n",
    ">In order to access ERA5 renalysis data, you will need an account on the Copernicus Climate Data Store (CDS). If you do not have an account, please visit [the CDS website](https://cds.climate.copernicus.eu/#!/home) and register for an account. Then, [follow these instructions](https://cds.climate.copernicus.eu/how-to-api) (step 1 only) to set up your API key.\n",
    "\n",
    "HADCRUT5 data is an anomaly against the 1961-1991 average, so we need to retrieve:\n",
    "- Data for every July from 1961-1991. This is our **reference period**.\n",
    "- Data for July 2024, to calculate the anomaly."
   ]
  },
  {
   "cell_type": "code",
   "execution_count": null,
   "id": "a75e77f6",
   "metadata": {},
   "outputs": [],
   "source": [
    "era5_reference_data = ek.data.from_source(\n",
    "    \"cds\", \"reanalysis-era5-single-levels-monthly-means\",\n",
    "    {\n",
    "        \"product_type\": \"monthly_averaged_reanalysis\",\n",
    "        \"variable\": \"2m_temperature\",\n",
    "        \"year\": list(range(1961, 1991)),\n",
    "        \"month\": \"07\",\n",
    "        \"time\": \"00:00\",\n",
    "    },\n",
    ")\n",
    "\n",
    "era5_2024_data = ek.data.from_source(\n",
    "    \"cds\", \"reanalysis-era5-single-levels-monthly-means\",\n",
    "    {\n",
    "        \"product_type\": \"monthly_averaged_reanalysis\",\n",
    "        \"variable\": \"2m_temperature\",\n",
    "        \"year\": 2024,\n",
    "        \"month\": \"07\",\n",
    "        \"time\": \"00:00\",\n",
    "    },\n",
    ")"
   ]
  },
  {
   "cell_type": "markdown",
   "id": "ea4fd1d2",
   "metadata": {},
   "source": [
    "#### 1.2 HADCRUT5\n",
    "\n",
    "The HADCRUT5 dataset is available on the [Met Office's dedicated website](https://www.metoffice.gov.uk/hadobs/hadcrut5/data/HadCRUT.5.1.0.0/download.html). We can access the gridded monthly dataset directly from a URL. "
   ]
  },
  {
   "cell_type": "code",
   "execution_count": null,
   "id": "00c07065",
   "metadata": {},
   "outputs": [],
   "source": [
    "HADCRUT5_URL = \"https://www.metoffice.gov.uk/hadobs/hadcrut5/data/HadCRUT.5.0.2.0/analysis/HadCRUT.5.0.2.0.analysis.anomalies.ensemble_mean.nc\"\n",
    "hadcrut5_data = ek.data.from_source(\"url\", HADCRUT5_URL)"
   ]
  },
  {
   "cell_type": "markdown",
   "id": "070c8f89",
   "metadata": {},
   "source": [
    "### 2. Data analysis\n",
    "\n",
    "#### 2.1 ERA5\n",
    "\n",
    "Now we need to do some analysis with earthkit-transforms to calculate the ERA5 temperature anomalies.\n",
    "\n",
    "First, let's convert the GRIB data that we retrieved from the CDS to xarray."
   ]
  },
  {
   "cell_type": "code",
   "execution_count": null,
   "id": "7f7e2262",
   "metadata": {},
   "outputs": [],
   "source": [
    "reference = era5_reference_data.to_xarray()\n",
    "july_2024 = era5_2024_data.to_xarray(ensure_dims=\"forecast_reference_time\")"
   ]
  },
  {
   "cell_type": "markdown",
   "id": "bf6975c7",
   "metadata": {},
   "source": [
    "Now let's calculate a climatology from the reference data, and use it to calculate an anomaly for July 2024."
   ]
  },
  {
   "cell_type": "code",
   "execution_count": null,
   "id": "9f43a274",
   "metadata": {},
   "outputs": [],
   "source": [
    "climatology = ek.transforms.climatology.mean(reference, frequency=\"month\")\n",
    "climatology"
   ]
  },
  {
   "cell_type": "markdown",
   "id": "dac9aef5",
   "metadata": {},
   "source": [
    "We calculate anomalies by finding the difference between some data at a point in time against the long-term average. Our *climatology* is our long-term average, and earthkit-transforms provides an `anomaly` method for conveniently calculating the difference between the two."
   ]
  },
  {
   "cell_type": "code",
   "execution_count": null,
   "id": "9efbfac9",
   "metadata": {},
   "outputs": [],
   "source": [
    "era5_july_anomaly = ek.transforms.climatology.anomaly(july_2024, climatology)"
   ]
  },
  {
   "cell_type": "markdown",
   "id": "65515ec1",
   "metadata": {},
   "source": [
    "#### 2.2 HADCRUT5\n",
    "As for HADCRUT5, this data is already anomalies - so we just need to extract July 2024."
   ]
  },
  {
   "cell_type": "code",
   "execution_count": null,
   "id": "8e97f71c",
   "metadata": {},
   "outputs": [],
   "source": [
    "hadcrut5 = hadcrut5_data.to_xarray()\n",
    "hadcrut5"
   ]
  },
  {
   "cell_type": "code",
   "execution_count": null,
   "id": "a701c08a",
   "metadata": {},
   "outputs": [],
   "source": [
    "hadcrut5_july_anomaly = hadcrut5.tas_mean.sel(time=\"2024-07-16\")\n",
    "hadcrut5_july_anomaly"
   ]
  },
  {
   "cell_type": "markdown",
   "id": "7c4065b8",
   "metadata": {},
   "source": [
    "### 3. Visualisation\n",
    "\n",
    "We can use earthkit-plots to visualise these two datasets using the same principles.\n",
    "\n",
    "First, let's design a suitable style for these anomalies."
   ]
  },
  {
   "cell_type": "code",
   "execution_count": null,
   "id": "40f39973",
   "metadata": {},
   "outputs": [],
   "source": [
    "style = ek.plots.styles.Contour(\n",
    "    colors=[\n",
    "        \"#1B2C62\", \"#1F4182\", \"#2355A1\", \"#3978BB\", \"#519BD2\", \"#71B8E4\",\n",
    "        \"#91D1F2\", \"#B0E1F8\", \"#CBEBF9\", \"#E3F4FB\", \"#F5FBFE\", \"#FEFBEA\",\n",
    "        \"#FDF2BC\", \"#FCE18A\", \"#FDC659\", \"#FDA731\", \"#F9872D\", \"#F26429\",\n",
    "        \"#E34128\", \"#D01F27\", \"#B31A21\", \"#921519\",\n",
    "    ],\n",
    "    levels=range(-7, 8),\n",
    "    ticks=range(-7, 8),\n",
    "    extend=\"both\",\n",
    "    # the data is in Kelvin but we want to show celsius in the legend\n",
    "    # if we use the `units` key it will attempt to convert units to C\n",
    "    # units_label lets us just override the label\n",
    "    units_label=\"°C\",\n",
    ")"
   ]
  },
  {
   "cell_type": "markdown",
   "id": "db8e1120",
   "metadata": {},
   "source": [
    "Now we can plot them!"
   ]
  },
  {
   "cell_type": "code",
   "execution_count": null,
   "id": "bd5de230",
   "metadata": {},
   "outputs": [],
   "source": [
    "import cartopy.crs as ccrs\n",
    "\n",
    "figure = ek.plots.Figure(crs=ccrs.Robinson(), rows=1, columns=2, size=(8, 5.5))\n",
    "\n",
    "# We can throw both datasets at the figure and it will iterate over subplots to plot them\n",
    "figure.pcolormesh([hadcrut5_july_anomaly, era5_july_anomaly], style=style)\n",
    "\n",
    "figure.coastlines(resolution=\"low\")\n",
    "figure.borders(resolution=\"low\")\n",
    "\n",
    "figure.legend(label=\"temperature anomaly ({units})\")\n",
    "\n",
    "# Add titles\n",
    "figure[0].title(\"HADCRUT5\")\n",
    "figure[1].title(\"ERA5\")\n",
    "# We can use the \"time\" key once here as it should have the same value for ERA5 and HADCRUT5\n",
    "figure.title(\"Global temperature anomaly during {time:%B %Y}\", fontsize=15)\n",
    "\n",
    "# Add shading to emphasise the missing data in HADCRUT5\n",
    "# We can directly access the underlying matplotlib objects to do this\n",
    "x = [-180, -180, 180, 180, -180]\n",
    "y = [-90, 90, 90, -90, -90]\n",
    "figure[0].ax.fill(x, y, transform=ccrs.PlateCarree(), hatch=\"///////\", fill=False, zorder=0)\n",
    "\n",
    "figure.show()"
   ]
  },
  {
   "cell_type": "markdown",
   "id": "64a1d8b4",
   "metadata": {},
   "source": [
    "### Exercises\n",
    "\n",
    "1. Now that you have compared July 2024 between HADCRUT5 and ERA5, can you do the same for another month and/or year?\n",
    "1. Can you show a zoomed-in version of this comparison over Europe?"
   ]
  }
 ],
 "metadata": {
  "kernelspec": {
   "display_name": "DEVELOP",
   "language": "python",
   "name": "develop"
  },
  "language_info": {
   "codemirror_mode": {
    "name": "ipython",
    "version": 3
   },
   "file_extension": ".py",
   "mimetype": "text/x-python",
   "name": "python",
   "nbconvert_exporter": "python",
   "pygments_lexer": "ipython3",
   "version": "3.11.6"
  }
 },
 "nbformat": 4,
 "nbformat_minor": 5
}
