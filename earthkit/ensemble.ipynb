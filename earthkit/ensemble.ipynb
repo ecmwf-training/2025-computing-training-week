{
 "cells": [
  {
   "cell_type": "markdown",
   "id": "0d4f523e-65bd-478e-9915-695217710092",
   "metadata": {},
   "source": [
    "## Ensemble Explorer"
   ]
  },
  {
   "cell_type": "markdown",
   "id": "e5e0ff79-a198-4456-948a-c3606502675d",
   "metadata": {},
   "source": [
    "In this notebook you will see how to:\n",
    "\n",
    "- compute and plot ensemble mean and spread maps\n",
    "- create a stamp plot\n",
    "- create a spaghetti plot\n",
    "- compute and plot ensemble probability and percentile maps\n",
    "- generate a CDF (Cumulative Distribution Function) plot for a given location\n",
    "\n",
    "### Components of earthkit\n",
    "\n",
    "This tutorial uses the following earthkit components - click any logo to open the package documentation:\n",
    "\n",
    "<div align=\"center\">\n",
    "  <br>\n",
    "  <a href=\"https://earthkit-data.readthedocs.io/en/latest/\" target=\"_blank\" style=\"display:inline-block; margin: 0 15px;\">\n",
    "    <img src=\"https://raw.githubusercontent.com/ecmwf/logos/refs/heads/main/logos/earthkit/earthkit-data-light.svg\" alt=\"earthkit-data\" width=\"200\">\n",
    "  </a>\n",
    "  <a href=\"https://earthkit-plots.readthedocs.io/en/latest/\" target=\"_blank\" style=\"display:inline-block; margin: 0 15px;\">\n",
    "    <img src=\"https://raw.githubusercontent.com/ecmwf/logos/refs/heads/main/logos/earthkit/earthkit-plots-light.svg\" alt=\"earthkit-plots\" width=\"200\">\n",
    "  </a> \n",
    "  <a href=\"https://earthkit-transforms.readthedocs.io/en/latest/\" target=\"_blank\" style=\"display:inline-block; margin: 0 15px;\">\n",
    "    <img src=\"https://raw.githubusercontent.com/ecmwf/logos/refs/heads/main/logos/earthkit/earthkit-transforms-light.svg\" alt=\"earthkit-transforms\" width=\"200\">\n",
    "  </a>\n",
    "  <a href=\"https://earthkit-geo.readthedocs.io/en/latest/\" target=\"_blank\" style=\"display:inline-block; margin: 0 15px;\">\n",
    "    <img src=\"https://raw.githubusercontent.com/ecmwf/logos/refs/heads/main/logos/earthkit/earthkit-geo-light.svg\" alt=\"earthkit-geo\" width=\"200\">\n",
    "  </a>\n",
    "</div>"
   ]
  },
  {
   "cell_type": "markdown",
   "id": "3c94c999-3864-49fc-8279-16b31c227885",
   "metadata": {},
   "source": [
    "### 1. The input data"
   ]
  },
  {
   "cell_type": "markdown",
   "id": "b829ba90-3764-46ca-aeb2-11198929820f",
   "metadata": {},
   "source": [
    "The data to work with is related to the St Jude wind storm from 2013 October. The windgust and the 850 hPa geopotential forecast were retrieved from MARS in GRIB format for a few steps on a low resolution grid to provide input for the exercises. For convenience, this data is available as an earthkit-data \"sample\". You can find details about how this data was actually generated with earthkit-data in the \"utils/ensemble_from_mars.ipynb\" notebook.\n",
    "\n",
    "The data is loaded into 2 GRIB fieldlists."
   ]
  },
  {
   "cell_type": "code",
   "execution_count": null,
   "id": "ad7d8c69-4f4e-41cd-9f12-01b157d52ae3",
   "metadata": {},
   "outputs": [],
   "source": [
    "import earthkit as ek\n",
    "\n",
    "ds_fc = ek.data.from_source(\"sample\", \"fc_storm_st_jude.grib\") # hi-res forecast\n",
    "ds_en = ek.data.from_source(\"sample\", \"ens_storm_st_jude.grib\") # ensemble forecast"
   ]
  },
  {
   "cell_type": "markdown",
   "id": "9d9e7b65-6116-4875-abe6-d1c6424f500f",
   "metadata": {},
   "source": [
    "You can get an overview of what the fieldlists contain using `ls()`. Notice the `dataType` for the ensemble data: \"cf\" means control forecast, \"pf\" means perturbed member forecast."
   ]
  },
  {
   "cell_type": "code",
   "execution_count": null,
   "id": "e44b3833-d0b3-4e66-b4f5-1103cb6c0235",
   "metadata": {},
   "outputs": [],
   "source": [
    "ds_fc.ls()"
   ]
  },
  {
   "cell_type": "code",
   "execution_count": null,
   "id": "baf07721-b2a8-4670-ac87-bbbe6e26b3ae",
   "metadata": {},
   "outputs": [],
   "source": [
    "ds_en.ls()"
   ]
  },
  {
   "cell_type": "markdown",
   "id": "7858ba36-6146-4e06-aea7-babdfe545629",
   "metadata": {},
   "source": [
    "### 2. Compute the ensemble mean and spread"
   ]
  },
  {
   "cell_type": "markdown",
   "id": "dbc880c6-b4a6-4569-9d5c-6f876e5f1b7a",
   "metadata": {},
   "source": [
    "Some of the exercises will require the ensemble mean and spread of the windgust. High-level computations on GRIB fieldlists are not yet available in  [earthkit-data](https://earthkit-data.readthedocs.io/en/latest/). Therefore, you will carry out these computations in Xarray using [earthkit-transforms](https://earthkit-transforms.readthedocs.io/en/latest/). Since the ensemble fieldlist forms a full hypercube you can convert it to Xarray using the default options."
   ]
  },
  {
   "cell_type": "code",
   "execution_count": null,
   "id": "fc977783-5cbc-4d73-81ad-5ce6398a0b2a",
   "metadata": {},
   "outputs": [],
   "source": [
    "# select windgust fields and convert them to Xarray\n",
    "ds_fg = ds_en.sel(param=\"10fg3\")\n",
    "fg = ds_fg.to_xarray()\n",
    "\n",
    "# compute ensemble mean and spread\n",
    "fg_mean = ek.transforms.ensemble.mean(fg)\n",
    "fg_spread = ek.transforms.ensemble.std(fg)"
   ]
  },
  {
   "cell_type": "markdown",
   "id": "22657606-235b-4cca-b763-6929bc29563a",
   "metadata": {},
   "source": [
    "### 3. Create an ensemble plot"
   ]
  },
  {
   "cell_type": "markdown",
   "id": "2862c786-6127-4f84-aa07-9c9d9f791a90",
   "metadata": {},
   "source": [
    "This example creates a 2x2 plot for a given timestep (=78h) of the windgust forecast. The maps in the plot shows the following fields:\n",
    "\n",
    "- deterministic forecast\n",
    "- control forecast\n",
    "- ensemble mean\n",
    "- ensemble spread"
   ]
  },
  {
   "cell_type": "code",
   "execution_count": null,
   "id": "acbec92e-4463-4d86-8aba-c95a1683be12",
   "metadata": {},
   "outputs": [],
   "source": [
    "import matplotlib.pyplot as plt\n",
    "import cartopy.crs as ccrs\n",
    "import datetime\n",
    "\n",
    "figure = ek.plots.Figure(crs=ccrs.PlateCarree(), \n",
    "                               domain=[-15,15,65,45], size=(7, 6), rows=2, columns=2)\n",
    "\n",
    "gust_style = ek.plots.styles.Style(\n",
    "    colors=[\"#85AAEE\", \"#208EFC\", \"#6CA632\", \"#FFB000\", \"#FF0000\", \"#7A11B1\"],\n",
    "    levels=[12, 15, 20, 25, 30, 35, 50],\n",
    "    units=\"m s-1\",\n",
    ")\n",
    "\n",
    "# the hres forecast, GRIB\n",
    "subplot = figure.add_map(0, 0)\n",
    "subplot.contourf(ds_fc.sel(param=\"10fg3\", step=78), style=gust_style)\n",
    "subplot.title(\"HRES {time:%Y-%m-%d %H} UTC (+{lead_time}h)\")\n",
    "subplot.legend(label=\"\")\n",
    "\n",
    "# the control forecast, GRIB\n",
    "subplot = figure.add_map(0, 1)\n",
    "subplot.contourf(ds_fg.sel(marsType=\"cf\", step=78), style=gust_style)\n",
    "subplot.title(\"CF {time:%Y-%m-%d %H} UTC (+{lead_time}h)\")\n",
    "subplot.legend(label=\"\")\n",
    "\n",
    "# the ensemble mean, Xarray\n",
    "subplot = figure.add_map(1, 0)\n",
    "subplot.contourf(fg_mean.sel(step=datetime.timedelta(hours=78)),  style=gust_style)\n",
    "subplot.title(\"MEAN\")\n",
    "subplot.legend(label=\"\")\n",
    "\n",
    "# the ensemble spread, Xarray\n",
    "subplot = figure.add_map(1, 1)\n",
    "subplot.contourf(fg_spread.sel(step=datetime.timedelta(hours=78)))\n",
    "subplot.title(\"SPREAD\")\n",
    "subplot.legend(label=\"\")\n",
    "\n",
    "figure.land()\n",
    "figure.coastlines()\n",
    "figure.borders()\n",
    "\n",
    "figure.show()"
   ]
  },
  {
   "cell_type": "markdown",
   "id": "72243a4e-9a37-4522-95d4-9e27d37bba14",
   "metadata": {},
   "source": [
    "### 4. Creating a stamp plot"
   ]
  },
  {
   "cell_type": "markdown",
   "id": "7ad3ec72-71bb-44a0-9a10-c1d8afcace0f",
   "metadata": {},
   "source": [
    "In a stamp plot all the ensemble members are plotted into a different map within the same plot. It provides us with a quick overview on how the forecast members differ from each other. \n",
    "\n",
    "A stamp plot is about managing the layout. The code below creates an 8x8 grid and plots the ensmeble mean, the HRES forecast and the control forecast into the first row, and the perturbed members into the rest of the cells."
   ]
  },
  {
   "cell_type": "code",
   "execution_count": null,
   "id": "3ba766c9-1d68-40ee-a622-fbdbc863259b",
   "metadata": {},
   "outputs": [],
   "source": [
    "import matplotlib.pyplot as plt\n",
    "import cartopy.crs as ccrs\n",
    "\n",
    "figure = ek.plots.Figure(crs=ccrs.PlateCarree(), domain=[-15,15,65,45], size=(7, 7), rows=8, columns=8)\n",
    "\n",
    "gust_style = ek.plots.styles.Style(\n",
    "    colors=[\"#85AAEE\", \"#208EFC\", \"#6CA632\", \"#FFB000\", \"#FF0000\", \"#7A11B1\"],\n",
    "    levels=[12, 15, 20, 25, 30, 35, 50],\n",
    "    units=\"m s-1\",\n",
    ")\n",
    "\n",
    "gust_style_1 = ek.plots.styles.Contour(\n",
    "    linecolors=\"black\",\n",
    "    levels=[12, 15, 20, 25, 30, 35, 50],\n",
    "    linewidths=1,\n",
    "    labels=False,\n",
    "    units=\"m s-1\",\n",
    ")\n",
    "\n",
    "# ensemble mean, Xarray\n",
    "subplot = figure.add_map(0, 5)\n",
    "subplot.contourf(fg_mean.sel(step=datetime.timedelta(hours=78)), style=gust_style)\n",
    "subplot.title(\"MEAN\")\n",
    "\n",
    "# HRES forecast, GRIB\n",
    "subplot = figure.add_map(0, 6)\n",
    "subplot.contourf(ds_fc.sel(param=\"10fg3\", step=78), style=gust_style)\n",
    "subplot.title(\"HRES\")\n",
    "\n",
    "# control forecast, GRIB\n",
    "subplot = figure.add_map(0, 7)\n",
    "subplot.contourf(ds_fg.sel(dataType=\"cf\", step=78), style=gust_style)\n",
    "subplot.title(\"CF\")\n",
    "\n",
    "# perturbed members, GRIB\n",
    "for i, f in enumerate(ds_fg.sel(dataType=\"pf\", step=78)):\n",
    "    subplot = figure.add_map(1+i//8, i%8)\n",
    "    subplot.contourf(f, style=gust_style)\n",
    "    subplot.title(\"PF {number}\")\n",
    "\n",
    "figure.land(resolution=\"low\")\n",
    "figure.coastlines(resolution=\"low\")\n",
    "figure.borders(resolution=\"low\")\n",
    "\n",
    "ax = plt.axes((0.05, 0.9, 0.5, 0.01))\n",
    "legends = figure.legend(ax=ax, label=\"\")\n",
    "legends[0].ax.tick_params(labelsize=8)\n",
    "\n",
    "# figure.subplot_titles(\"{time:%Y-%m-%d %H} UTC (+{lead_time}h)\")\n",
    "\n",
    "figure.title(\n",
    "    \"ECMWF Run: {base_time!1:%Y-%m-%d %H} UTC (+{lead_time!1}h)\\n{variable_name!1}\",\n",
    "    fontsize=9, horizontalalignment=\"left\", x=0, y=0.96,\n",
    ")\n",
    "\n",
    "figure.show()"
   ]
  },
  {
   "cell_type": "markdown",
   "id": "3c12bbdf-fa83-4a13-aaa1-72e5e8c0c1e5",
   "metadata": {},
   "source": [
    "### 5. Creating a spaghetti plot"
   ]
  },
  {
   "cell_type": "markdown",
   "id": "6e210004-0657-4384-9315-a8e27666df8e",
   "metadata": {},
   "source": [
    "In a spaghetti plot we pick an isoline value and plot that isoline into the same map from all the ensemble members. It is a useful tool e.g. to investigate the uncertainty of the location of a trough associated with a storm.\n",
    "\n",
    "This exercise shows you how to generate a spaghetti plot for the 850 hPa geopotential forecast.\n",
    "\n",
    "First, the geopotential  data is extracted for the selected timestep."
   ]
  },
  {
   "cell_type": "code",
   "execution_count": null,
   "id": "5bb9e4c9-9f89-413d-97a2-0da0ff345b3d",
   "metadata": {},
   "outputs": [],
   "source": [
    "z_fc = ds_fc.sel(param=\"z\", level=850, step=78)\n",
    "z_en = ds_en.sel(param=\"z\", level=850, step=78)"
   ]
  },
  {
   "cell_type": "markdown",
   "id": "d8133ba4-cdf1-430f-946d-2090d2caede3",
   "metadata": {},
   "source": [
    "Next, the perturbed members, the control forecast and the hi-res forecast are plotted into the same map."
   ]
  },
  {
   "cell_type": "code",
   "execution_count": null,
   "id": "7c218dd9-19fa-4218-b300-1d83d876f6b7",
   "metadata": {},
   "outputs": [],
   "source": [
    "chart = ek.plots.Map(crs=ccrs.PlateCarree(), domain=[-15, 15, 65, 45], size=(7,7)) \n",
    "\n",
    "cont_level = [12500]\n",
    "\n",
    "# perturbed members\n",
    "for f in z_en.sel(dataType=\"pf\"):\n",
    "    chart.contour(f, levels=cont_level, linewidths=[0.2, 0.2],linecolors=\"blue\", labels=False)\n",
    "\n",
    "# control forecast\n",
    "chart.contour(z_en.sel(dataType=\"cf\"), levels=cont_level, linewidths=[3, 3],linecolors=\"red\", labels=False)\n",
    "\n",
    "# hres forecasts\n",
    "chart.contour(z_fc, levels=cont_level, linewidths=[3, 3],linecolors=\"orange\", labels=False)\n",
    "    \n",
    "chart.land()\n",
    "chart.coastlines()\n",
    "chart.borders()\n",
    "chart.gridlines()\n",
    "\n",
    "chart.title(\n",
    "    \"ECMWF Run: {base_time:%Y-%m-%d %H} UTC (+{lead_time}h) {variable_name} {level} hPa\",\n",
    "    fontsize=9\n",
    ")\n",
    "\n",
    "chart.show()"
   ]
  },
  {
   "cell_type": "markdown",
   "id": "b9ad1acc-0b15-4f5a-a8fa-7a8f5c93ab69",
   "metadata": {},
   "source": [
    "### 6. Generating a probability map"
   ]
  },
  {
   "cell_type": "markdown",
   "id": "dde27549-a311-4c5c-a1e1-5e22b2162924",
   "metadata": {},
   "source": [
    "This exercise shows you compute the probability of having a wind gust exceeding a given threshold for a given timestep. "
   ]
  },
  {
   "cell_type": "markdown",
   "id": "38533579-3907-4563-b8c2-86b36603c92b",
   "metadata": {},
   "source": [
    "The computations are carried out in Xarray."
   ]
  },
  {
   "cell_type": "code",
   "execution_count": null,
   "id": "811f6d5f-07b5-493c-b4e4-f610d629b667",
   "metadata": {},
   "outputs": [],
   "source": [
    "threshold = 28 \n",
    "prob = ds_fg.to_xarray() > threshold\n",
    "prob = prob.mean(dim=\"number\") * 100"
   ]
  },
  {
   "cell_type": "code",
   "execution_count": null,
   "id": "2c9eaaea-0058-4306-82a6-a91cc31b86ec",
   "metadata": {},
   "outputs": [],
   "source": [
    "# define step\n",
    "step=78\n",
    "\n",
    "chart = ek.plots.Map(crs=ccrs.PlateCarree(), domain=[-15, 15, 65, 45], size=(7,7)) \n",
    "\n",
    "prob_style = ek.plots.styles.Style(\n",
    "    levels=[10,20,30,40,50,60,72],\n",
    ")\n",
    "\n",
    "chart.contourf(prob.sel(step=datetime.timedelta(hours=step)), style=prob_style)\n",
    "chart.land()\n",
    "chart.coastlines()\n",
    "chart.borders()\n",
    "chart.gridlines()\n",
    "chart.legend()\n",
    "chart.title(\"{variable_name} (+\" +str(step) + \" h) probability (> \" + str(threshold) + \" m/s)\", \n",
    "            fontsize=9)\n",
    "\n",
    "chart.show()"
   ]
  },
  {
   "cell_type": "markdown",
   "id": "b6f458c4-780e-42ab-9dd5-84f5f462c8b4",
   "metadata": {},
   "source": [
    "### 7. Generating a percentile map"
   ]
  },
  {
   "cell_type": "markdown",
   "id": "d1a39ad7-334f-4003-9b7f-4c183db73367",
   "metadata": {},
   "source": [
    "Another way of looking at the probabilities is to use a percentile map which give you a more detailed view about the actual distribution of the ENS forecast values. \n",
    "\n",
    "This example shows how to generate the percentile map for 80%. The value in each gridpoint will be the windgust value below which 80% of the ENS members fall."
   ]
  },
  {
   "cell_type": "markdown",
   "id": "0a8d1d12-f087-45b8-9200-b08d44060180",
   "metadata": {},
   "source": [
    "The computations are carried out in Xarray."
   ]
  },
  {
   "cell_type": "code",
   "execution_count": null,
   "id": "fa979659-fc93-4fed-b577-9d96a3c97894",
   "metadata": {},
   "outputs": [],
   "source": [
    "perc = 0.8 # 80%\n",
    "prob = ds_fg.to_xarray()\n",
    "prob = prob.quantile(perc, dim=\"number\")"
   ]
  },
  {
   "cell_type": "code",
   "execution_count": null,
   "id": "d68269b3-5bc6-4972-9bcf-76911931aa95",
   "metadata": {},
   "outputs": [],
   "source": [
    "# define step\n",
    "step=78\n",
    "\n",
    "chart = ek.plots.Map(crs=ccrs.PlateCarree(), domain=[-15, 15, 65, 45], size=(7,7)) \n",
    "\n",
    "chart.contourf(prob.sel(step=datetime.timedelta(hours=step)), style=gust_style)\n",
    "chart.land()\n",
    "chart.coastlines()\n",
    "chart.borders()\n",
    "chart.gridlines()\n",
    "chart.legend()\n",
    "chart.title(\"{variable_name} (+\" +str(step) + \" h) percentile \" + str(perc*100) + \" %\", \n",
    "            fontsize=9)\n",
    "\n",
    "chart.show()"
   ]
  },
  {
   "cell_type": "markdown",
   "id": "e621cacb-61c1-463a-a390-fd9a0084e080",
   "metadata": {},
   "source": [
    "### 8. Creating a CDF plot"
   ]
  },
  {
   "cell_type": "markdown",
   "id": "ce7776cd-6897-4f0b-977d-a8dcde29ee04",
   "metadata": {},
   "source": [
    "CDF (Cumulative Distribution Function) curves can be used to study the forecast probabilities at a given location in detail. The CDF curve constructed form ENS data tells us the probability that the forecast will be less than or equal to a given value.\n",
    "\n",
    "In this example the CDF plot is built for the location of Reading for 3 consecutive time steps (72, 78 and 84 h). The index of the grid point to extract from each field is determined by using  [earthkit.geo.nearest_point_haversine()](https://earthkit-geo.readthedocs.io/en/latest/autoapi/earthkit/geo/distance/nearest_point_haversine.html#earthkit.geo.distance.nearest_point_haversine)."
   ]
  },
  {
   "cell_type": "code",
   "execution_count": null,
   "id": "a3c27bad-3c53-486f-9875-8029e19e1f9b",
   "metadata": {},
   "outputs": [],
   "source": [
    "import numpy as np\n",
    "\n",
    "p_ref = (51.45, -0.97)\n",
    "latlon = ds_fg[0].to_latlon()\n",
    "lat = latlon[\"lat\"]\n",
    "lon = latlon[\"lon\"]\n",
    "\n",
    "idx, dist = ek.geo.nearest_point_haversine(p_ref, (lat, lon))\n",
    "idx\n",
    "\n",
    "lines = []\n",
    "for step in [72, 78, 84]:\n",
    "    x = ds_fg.sel(step=step).to_numpy(index=idx, flatten=True)\n",
    "\n",
    "    # form cdf\n",
    "    y = np.arange(0, 101)\n",
    "    x = np.percentile(x, y)\n",
    "\n",
    "    # make line plot object\n",
    "    line, = plt.plot(x, y, label=f\"step={step}h\")\n",
    "    lines.append(line)\n",
    "\n",
    "plt.legend(handles=lines, loc='lower right')\n",
    "plt.xlabel('Wind gust (m/s)')\n",
    "plt.ylabel('Percentage (%)')\n",
    "plt.show()"
   ]
  },
  {
   "cell_type": "code",
   "execution_count": null,
   "id": "d08ff0a4-5889-4f0f-83c5-86f8fba4f4b0",
   "metadata": {},
   "outputs": [],
   "source": []
  }
 ],
 "metadata": {
  "kernelspec": {
   "display_name": "ek_new",
   "language": "python",
   "name": "ek_new"
  },
  "language_info": {
   "codemirror_mode": {
    "name": "ipython",
    "version": 3
   },
   "file_extension": ".py",
   "mimetype": "text/x-python",
   "name": "python",
   "nbconvert_exporter": "python",
   "pygments_lexer": "ipython3",
   "version": "3.13.1"
  }
 },
 "nbformat": 4,
 "nbformat_minor": 5
}
