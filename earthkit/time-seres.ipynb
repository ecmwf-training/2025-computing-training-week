{
 "cells": [
  {
   "cell_type": "markdown",
   "id": "33a9e7c4",
   "metadata": {},
   "source": [
    "## ERA5 time series\n",
    "\n",
    "In this notebook, we will explore how to:\n",
    "- Extract ERA5 reanalysis time series data for a single point from the C3S **Climate Data Store (CDS)**\n",
    "- Calculate temporal statistics (e.g. daily minima, maxima and means)\n",
    "- Visualise your results with **earthkit-plots**\n",
    "\n",
    "### Components of earthkit\n",
    "\n",
    "This tutorial uses the following earthkit components - click any logo to open the package documentation:\n",
    "\n",
    "<div align=\"center\">\n",
    "  <br>\n",
    "  <a href=\"https://earthkit-data.readthedocs.io/en/latest/\" target=\"_blank\" style=\"display:inline-block; margin: 0 15px;\">\n",
    "    <img src=\"https://raw.githubusercontent.com/ecmwf/logos/refs/heads/main/logos/earthkit/earthkit-data-light.svg\" alt=\"earthkit-data\" width=\"200\">\n",
    "  </a>\n",
    "  <a href=\"https://earthkit-transforms.readthedocs.io/en/latest/\" target=\"_blank\" style=\"display:inline-block; margin: 0 15px;\">\n",
    "    <img src=\"https://raw.githubusercontent.com/ecmwf/logos/refs/heads/main/logos/earthkit/earthkit-transforms-light.svg\" alt=\"earthkit-transforms\" width=\"200\">\n",
    "  </a>\n",
    "  <a href=\"https://earthkit-plots.readthedocs.io/en/latest/\" target=\"_blank\" style=\"display:inline-block; margin: 0 15px;\">\n",
    "    <img src=\"https://raw.githubusercontent.com/ecmwf/logos/refs/heads/main/logos/earthkit/earthkit-plots-light.svg\" alt=\"earthkit-plots\" width=\"200\">\n",
    "  </a>\n",
    "</div>"
   ]
  },
  {
   "cell_type": "markdown",
   "id": "1b819cdb",
   "metadata": {},
   "source": [
    "> Note: some of the examples in this notebook require an optional dependency - the Python package **reverse-geocode**. This lets you easily look up the nearest location to a latitude-longitude point. To install it, uncomment the cell below and run it."
   ]
  },
  {
   "cell_type": "code",
   "execution_count": null,
   "id": "f4036b7b",
   "metadata": {},
   "outputs": [],
   "source": [
    "#!pip install reverse-geocode"
   ]
  },
  {
   "cell_type": "code",
   "execution_count": null,
   "id": "066cf770",
   "metadata": {},
   "outputs": [],
   "source": [
    "import earthkit as ek"
   ]
  },
  {
   "cell_type": "markdown",
   "id": "1d4cd8c2",
   "metadata": {},
   "source": [
    "### 1. Retrieving ERA5 time series data\n",
    "\n",
    "In this example, we’ll examine Northern Hemisphere Summer 2025 for a single point location. By default, we’ll use Reading, UK — one of ECMWF’s sites - but feel free to choose your own location by changing the latitude and longitude values in the CDS request.\n",
    "\n",
    ">In order to access ERA5 renalysis data, you will need an account on the Copernicus Climate Data Store (CDS). If you do not have an account, please visit [the CDS website](https://cds.climate.copernicus.eu/#!/home) and register for an account. Then, [follow these instructions](https://cds.climate.copernicus.eu/how-to-api) (step 1 only) to set up your API key.\n",
    "\n",
    "If you do not wish to set up a CDS account right now, you can still follow along with this notebook by accessing the Reading data sample from an open URL. To do this, simply uncomment the cell below and run it."
   ]
  },
  {
   "cell_type": "code",
   "execution_count": null,
   "id": "f25830a0",
   "metadata": {},
   "outputs": [],
   "source": [
    "ds = ek.data.from_source(\"sample\", \"era5-timeseries-nh-summer-2025.nc\")"
   ]
  },
  {
   "cell_type": "markdown",
   "id": "b1c1a194",
   "metadata": {},
   "source": [
    "If you **do** have a CDS account, you can access the [ERA5 hourly time-series data on single levels from 1940 to present](https://cds.climate.copernicus.eu/datasets/reanalysis-era5-single-levels-timeseries?tab=overview) dataset, which provides super-fast access to point-based time series from ERA5 reanalysis from 1940 to present.\n",
    "\n",
    "The following request will get you data for the grid point containing **Reading, UK** for summer 2025:"
   ]
  },
  {
   "cell_type": "code",
   "execution_count": null,
   "id": "85bbabcf",
   "metadata": {},
   "outputs": [],
   "source": [
    "# dataset = \"reanalysis-era5-single-levels-timeseries\"\n",
    "# request = {\n",
    "#     \"variable\": [\"2m_temperature\"],\n",
    "#     \"location\": {\"longitude\": -1, \"latitude\": 51.5},\n",
    "#     \"date\": [\"2025-06-01/2025-09-30\"],\n",
    "#     \"data_format\": \"netcdf\"\n",
    "# }\n",
    "\n",
    "# ds = ek.data.from_source(\"cds\", dataset, request)"
   ]
  },
  {
   "cell_type": "markdown",
   "id": "f58deb22",
   "metadata": {},
   "source": [
    "Since this is netCDF data, converting it to xarray gives us a good view of our data."
   ]
  },
  {
   "cell_type": "code",
   "execution_count": null,
   "id": "52411d75",
   "metadata": {},
   "outputs": [],
   "source": [
    "data = ds.to_xarray()\n",
    "data"
   ]
  },
  {
   "cell_type": "markdown",
   "id": "774e336b",
   "metadata": {},
   "source": [
    "### 2. Plotting a time series (new!)\n",
    "\n",
    "In earthkit-plots version 0.5.0, a new (experimental) feature was released for plotting time series plots. The deisgn principle is to give you all the added value that you get from earthkit-plots maps, but for statistical plots:\n",
    "\n",
    "⚙️ Automatic extraction of plot components (x and y)\n",
    "\n",
    "📏 Unit conversion\n",
    "\n",
    "🔍 Metadata templating in titles\n",
    "\n",
    "✨ Reduced boilerplate vs raw matplotlib.\n",
    "\n",
    "To get started, we can instantiate a `TimeSeries()` object jsut like we would a `Map()`."
   ]
  },
  {
   "cell_type": "code",
   "execution_count": null,
   "id": "63a8a3d0",
   "metadata": {},
   "outputs": [],
   "source": [
    "chart = ek.plots.TimeSeries()\n",
    "\n",
    "# Plot our hourly data as a line\n",
    "chart.line(data)\n",
    "\n",
    "chart.show()"
   ]
  },
  {
   "cell_type": "markdown",
   "id": "2268dbbd",
   "metadata": {},
   "source": [
    "Notice that earthkit-plots identified the time dimension of the data and put it on the x-axis by default, reducing the padding on the left and right edges to contain the data.\n",
    "\n",
    "### 3. Customising the plot\n",
    "\n",
    "Now let's:\n",
    "- convert the units to celsius\n",
    "- change the line colour\n",
    "- add a title and a label for the y-axis"
   ]
  },
  {
   "cell_type": "code",
   "execution_count": null,
   "id": "eeedfca2",
   "metadata": {},
   "outputs": [],
   "source": [
    "chart = ek.plots.TimeSeries()\n",
    "\n",
    "chart.line(\n",
    "    data,\n",
    "    units=\"celsius\",\n",
    "    color=\"red\",\n",
    ")\n",
    "\n",
    "# The label string is automatic, based on the data and the units\n",
    "chart.ylabel()\n",
    "\n",
    "# You can use metadata templating in titles just like with map plots\n",
    "chart.title(\"ERA5 hourly {variable_name}\")\n",
    "\n",
    "chart.show()"
   ]
  },
  {
   "cell_type": "markdown",
   "id": "bff2489d",
   "metadata": {},
   "source": [
    "### 4. Changing the plot orientation\n",
    "\n",
    "In some cases, you may wish to flip your axes. With **earthkit-plots**, this is as straightforward as choosing which variable/coordinate/dimension you would like on each axis.\n",
    "\n",
    "> Note that you only need to specify one axis, like below where we specify `y=\"valid_time\"`. Try experimenting with `x=\"t2m\"` - it works just the same."
   ]
  },
  {
   "cell_type": "code",
   "execution_count": null,
   "id": "98fc214b",
   "metadata": {},
   "outputs": [],
   "source": [
    "chart = ek.plots.TimeSeries(size=(4, 8))\n",
    "\n",
    "chart.line(\n",
    "    data,\n",
    "    y=\"valid_time\", # put valid_time on the y-axis\n",
    "    units=\"celsius\",\n",
    "    color=\"red\",\n",
    ")\n",
    "\n",
    "chart.xlabel()\n",
    "\n",
    "chart.title(\"ERA5 hourly {variable_name}\")\n",
    "\n",
    "chart.show()"
   ]
  },
  {
   "cell_type": "markdown",
   "id": "2805032b",
   "metadata": {},
   "source": [
    "### 5. Enhancing ticks and formatting\n",
    "\n",
    "Now let's add a nicer title and format the time ticks better for clarity.\n",
    "\n",
    "Here we are adding more metadata keys ot the title, including:\n",
    "- latitude and longitude, with magic formatters (`%Lt` and `%Ln`) to easily add cardinal directions\n",
    "- location (requires the `reverse-geocode` library to have been installed at the top of this notebook!), which can be formatted to show the closest city (`%c`) or country (`%C`) to the latitude and longitude point\n",
    "\n",
    "We are also formatting the x (time) axis with:\n",
    "- `frequency=\"M\"`: show one tick every month\n",
    "- `format=\"%B\"`: show the full month name\n",
    "- `period=True`: place the labels in the center of each period"
   ]
  },
  {
   "cell_type": "code",
   "execution_count": null,
   "id": "a927b444",
   "metadata": {},
   "outputs": [],
   "source": [
    "chart = ek.plots.TimeSeries()\n",
    "\n",
    "chart.line(data, units=\"celsius\", color=\"red\")\n",
    "\n",
    "chart.title(\"ERA5 hourly {variable_name} at {latitude:%Lt} {longitude:%Ln} ({location:%c}, {location:%C})\")\n",
    "\n",
    "chart.ylabel()\n",
    "\n",
    "chart.xticks(\n",
    "    frequency=\"M\",\n",
    "    format=\"%B\",\n",
    "    period=True,\n",
    ")\n",
    "\n",
    "chart.show()"
   ]
  },
  {
   "cell_type": "markdown",
   "id": "2543dfcc",
   "metadata": {},
   "source": [
    "### 6. Adding daily statistics\n",
    "\n",
    "Finally, let's do something a bit more interesting by calculating daily minimum and maximum temperatures, and adding them to the plot. We can do this easily with earthkit-transforms:"
   ]
  },
  {
   "cell_type": "code",
   "execution_count": null,
   "id": "25f5ee3b",
   "metadata": {},
   "outputs": [],
   "source": [
    "daily_max = ek.transforms.temporal.daily_max(data).rename({\"t2m\": \"daily max\"})\n",
    "daily_min = ek.transforms.temporal.daily_min(data).rename({\"t2m\": \"daily min\"})\n",
    "\n",
    "chart = ek.plots.TimeSeries()\n",
    "\n",
    "chart.line(daily_max, units=\"celsius\", label=\"{name}\")\n",
    "chart.line(data, units=\"celsius\", label=\"hourly\")\n",
    "chart.line(daily_min, units=\"celsius\", label=\"{name}\")\n",
    "\n",
    "chart.title(\"ERA5 hourly {variable_name} at {latitude:%Lt} {longitude:%Ln} ({location:%c}, {location:%C})\")\n",
    "\n",
    "chart.ylabel()\n",
    "\n",
    "chart.xticks(\n",
    "    frequency=\"M\",\n",
    "    format=\"%B\",\n",
    "    period=True,\n",
    ")\n",
    "\n",
    "chart.legend()\n",
    "\n",
    "chart.show()"
   ]
  },
  {
   "cell_type": "markdown",
   "id": "16ea3d0a",
   "metadata": {},
   "source": [
    "### Exercises\n",
    "\n",
    "1. Produce a time series plot for a different location for summer 2025.\n",
    "1. Calculate the daily **mean** temperature, and plot that between the daily min and daily max (instead of the hourly temperature).\n",
    "1. Request `total_precipitation` from ERA5 and calculate the daily mean precipitation. Then, plot this as a bar chart. (Hint: you can call `TimeSeries.bar()` instead of `TimeSeries.line()`)."
   ]
  }
 ],
 "metadata": {
  "kernelspec": {
   "display_name": "DEVELOP",
   "language": "python",
   "name": "develop"
  },
  "language_info": {
   "codemirror_mode": {
    "name": "ipython",
    "version": 3
   },
   "file_extension": ".py",
   "mimetype": "text/x-python",
   "name": "python",
   "nbconvert_exporter": "python",
   "pygments_lexer": "ipython3",
   "version": "3.11.6"
  }
 },
 "nbformat": 4,
 "nbformat_minor": 5
}
