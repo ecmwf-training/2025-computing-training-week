{
 "cells": [
  {
   "cell_type": "markdown",
   "id": "0bba2ca5-00df-47bf-86ae-59636f4c1cbc",
   "metadata": {},
   "source": [
    "## Retrieving ensemble input data from MARS"
   ]
  },
  {
   "cell_type": "markdown",
   "id": "4941bcaa-2e10-4cdb-8b98-778b1e383f7c",
   "metadata": {},
   "source": [
    "This notebook demonstrates how the input data used in the \"ensemble.ipynb\" notebook was generated."
   ]
  },
  {
   "cell_type": "code",
   "execution_count": null,
   "id": "69a73b9d-ac6a-4244-bcd8-62cd29233ab8",
   "metadata": {},
   "outputs": [],
   "source": [
    "import earthkit.data as ekd\n",
    "from earthkit.data import from_source\n",
    "from earthkit.data import FieldList\n",
    "\n",
    "params = [\n",
    "    {\"param\": \"10fg3\", \"levtype\": \"sfc\"},\n",
    "    {\"param\": \"z\", \"levtype\": \"pl\", \"levelist\": 850},\n",
    "]\n",
    "\n",
    "d_common = {\n",
    "     \"date\": 20131025,\n",
    "     \"time\": 0,\n",
    "     \"step\": [72, 78, 84],\n",
    "     \"grid\": [0.75, 0.75],\n",
    "     \"area\": [66, -19.5, 43.5, 15.75]\n",
    "     }\n",
    "\n",
    "ds_fc = FieldList()\n",
    "ds_en = FieldList()\n",
    "for p in params:\n",
    "    # hires deterministic forecast\n",
    "    ds_fc += from_source(\"mars\", dict(**d_common, **p, type=\"fc\"))\n",
    "\n",
    "    # control ENS forecast\n",
    "    ds_en += from_source(\"mars\", dict(**d_common, **p, stream=\"enfo\", type=\"cf\"))\n",
    "\n",
    "    # perturbed ENS forecast\n",
    "    ds_en += from_source(\"mars\", dict(**d_common, **p, stream=\"enfo\", type=\"pf\", number=[1,\"TO\", 50]))\n",
    "    \n",
    "\n",
    "ds_fc.to_target(\"file\", \"fc_storm_st_jude.grib\")\n",
    "ds_en.to_target(\"file\", \"ens_storm_st_jude.grib\")"
   ]
  },
  {
   "cell_type": "code",
   "execution_count": null,
   "id": "668ba195-4cfd-4dba-83ea-55dda21f358e",
   "metadata": {},
   "outputs": [],
   "source": []
  }
 ],
 "metadata": {
  "kernelspec": {
   "display_name": "dev",
   "language": "python",
   "name": "dev"
  },
  "language_info": {
   "codemirror_mode": {
    "name": "ipython",
    "version": 3
   },
   "file_extension": ".py",
   "mimetype": "text/x-python",
   "name": "python",
   "nbconvert_exporter": "python",
   "pygments_lexer": "ipython3",
   "version": "3.11.12"
  }
 },
 "nbformat": 4,
 "nbformat_minor": 5
}
