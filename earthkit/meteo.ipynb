{
 "cells": [
  {
   "cell_type": "markdown",
   "id": "2a2f7aca-da88-4ad7-bbb9-55ff9e7a465a",
   "metadata": {},
   "source": [
    "## Meteorological computations"
   ]
  },
  {
   "cell_type": "markdown",
   "id": "2e52ca37-92b8-4810-92ad-c5c9eb6008ab",
   "metadata": {},
   "source": [
    "In this notebook you will see:\n",
    "- how to compute the potential temperature from GRIB data\n",
    "- how to compute the wind speed from GRIB data\n",
    "\n",
    "### Components of earthkit\n",
    "\n",
    "This tutorial uses the following earthkit components - click any logo to open the package documentation:\n",
    "\n",
    "<div align=\"center\">\n",
    "  <br>\n",
    "  <a href=\"https://earthkit-data.readthedocs.io/en/latest/\" target=\"_blank\" style=\"display:inline-block; margin: 0 15px;\">\n",
    "    <img src=\"https://raw.githubusercontent.com/ecmwf/logos/refs/heads/main/logos/earthkit/earthkit-data-light.svg\" alt=\"earthkit-data\" width=\"200\">\n",
    "  </a>\n",
    "  <a href=\"https://earthkit-meteo.readthedocs.io/en/latest/\" target=\"_blank\" style=\"display:inline-block; margin: 0 15px;\">\n",
    "    <img src=\"https://raw.githubusercontent.com/ecmwf/logos/refs/heads/main/logos/earthkit/earthkit-meteo-light.svg\" alt=\"earthkit-meteo\" width=\"200\">\n",
    "  </a>\n",
    "  <a href=\"https://earthkit-plots.readthedocs.io/en/latest/\" target=\"_blank\" style=\"display:inline-block; margin: 0 15px;\">\n",
    "    <img src=\"https://raw.githubusercontent.com/ecmwf/logos/refs/heads/main/logos/earthkit/earthkit-plots-light.svg\" alt=\"earthkit-plots\" width=\"200\">\n",
    "  </a>\n",
    "</div>"
   ]
  },
  {
   "cell_type": "markdown",
   "id": "634fa5fd-9926-4f62-a8b2-e82859b95599",
   "metadata": {},
   "source": [
    "### 1. Getting the data"
   ]
  },
  {
   "cell_type": "markdown",
   "id": "23637ddd-b355-4277-b063-54ecbffa0f26",
   "metadata": {},
   "source": [
    "Get the input data containing temperature, specific humidity and wind analysis on pressure levels."
   ]
  },
  {
   "cell_type": "code",
   "execution_count": null,
   "id": "4a963ac0-beba-4f69-9e6d-aaffc1155db0",
   "metadata": {},
   "outputs": [],
   "source": [
    "import earthkit as ek\n",
    "\n",
    "ds = ek.data.from_source(\"sample\", \"tquv_pl_2x2.grib\")\n",
    "ds.head(6)"
   ]
  },
  {
   "cell_type": "markdown",
   "id": "286314f1-6fbf-4b2c-bf65-722b219a9b72",
   "metadata": {},
   "source": [
    "### 2. About earthkit-meteo"
   ]
  },
  {
   "cell_type": "markdown",
   "id": "90e2ce32-4409-4128-b14f-329c82a851f7",
   "metadata": {},
   "source": [
    "[earthkit-meteo](https://earthkit-meteo.readthedocs.io/en/latest/) is a collection of various meteorological and statistical computations. It is still work in progress and at the moment both the input and output have to be arrays (numpy, torch or CuPy). In the examples below you will see how to use earthkit-meteo computations with GRIB input and how to write the results into GRIB output. This requires writing a loop and performing the computations and GRIB encodings field by field."
   ]
  },
  {
   "cell_type": "markdown",
   "id": "ea1d99dc-955a-4c15-90bb-847e187bce5c",
   "metadata": {},
   "source": [
    "### 3. Computing potential temperature"
   ]
  },
  {
   "cell_type": "markdown",
   "id": "6ec8d0ce-0984-40e2-a99a-a6cae48ebb54",
   "metadata": {},
   "source": [
    "This example shows how to compute the potential temperature with [earthkit.meteo.thermo.potential_temperature](https://earthkit-meteo.readthedocs.io/en/latest/autoapi/earthkit/meteo/thermo/array/potential_temperature.html#earthkit.meteo.thermo.array.potential_temperature)."
   ]
  },
  {
   "cell_type": "code",
   "execution_count": null,
   "id": "5a8195f4-4032-44ce-9a62-da0c2d9de787",
   "metadata": {},
   "outputs": [],
   "source": [
    "from earthkit.meteo import thermo\n",
    "\n",
    "# select temperature fields\n",
    "t = ds.sel(param=\"t\")\n",
    "\n",
    "res = []\n",
    "\n",
    "# loop and perform the computation per field, i.e per level\n",
    "for f in t:\n",
    "    pres_pa = f.metadata(\"level\") * 100 # Pa\n",
    "    t_vals = f.values\n",
    "    \n",
    "    # do the computation\n",
    "    pt_vals = thermo.potential_temperature(t_vals, pres_pa)\n",
    "    print(f\"t_mean={t_vals.mean():.2f} p={pres_pa} pt_mean={pt_vals.mean():.2f}\")\n",
    "\n",
    "    # encode a new GRIB field with the right shortName (in memory)\n",
    "    md = f.metadata().override(shortName=\"pt\")\n",
    "    f_new = ek.data.ArrayField(pt_vals, metadata=md)\n",
    "    \n",
    "    res.append(f_new)\n",
    "\n",
    "# create the resulting fieldlist    \n",
    "ds_pt = ek.data.FieldList.from_fields(res)"
   ]
  },
  {
   "cell_type": "markdown",
   "id": "c80808d1-3209-4763-8e4c-055993da6685",
   "metadata": {},
   "source": [
    "Check the results."
   ]
  },
  {
   "cell_type": "code",
   "execution_count": null,
   "id": "9c84f0db-06fd-4c13-ba69-d764b5ada792",
   "metadata": {},
   "outputs": [],
   "source": [
    "ds_pt.ls()"
   ]
  },
  {
   "cell_type": "markdown",
   "id": "e4a3a0aa-c9a3-42f4-9318-c09a62b3535c",
   "metadata": {},
   "source": [
    "The resulting fieldlist was created in memory. You can save it into a file with `to_target()`."
   ]
  },
  {
   "cell_type": "code",
   "execution_count": null,
   "id": "ec6f517e-cfb8-443a-9d3a-63d9de85ea47",
   "metadata": {},
   "outputs": [],
   "source": [
    "ds_pt.to_target(\"file\", \"_pt_res.grib\")\n",
    "\n",
    "# read back saved data and check first 2 fields\n",
    "ek.data.from_source(\"file\", \"_pt_res.grib\").head(2)"
   ]
  },
  {
   "cell_type": "markdown",
   "id": "45a85263-2f36-463b-bc40-52e313d562bf",
   "metadata": {},
   "source": [
    "The next cell plots the input temperature and the computed potential temperature fields on the same level."
   ]
  },
  {
   "cell_type": "code",
   "execution_count": null,
   "id": "a89e2201-0455-4555-b0aa-b12f1080f2d8",
   "metadata": {},
   "outputs": [],
   "source": [
    "figure = ek.plots.Figure(rows=1, columns=2)\n",
    "\n",
    "level = 850\n",
    "t_style = ek.plots.styles.Style(\n",
    "    units=\"K\", levels=list(range(220,340,10))\n",
    ")\n",
    "\n",
    "subplot = figure.add_map(0, 0)\n",
    "subplot.contourf(t.sel(level=level), style=t_style)\n",
    "subplot.title(\"{shortName} {level} hPa\")\n",
    "subplot.legend()\n",
    "\n",
    "subplot = figure.add_map(0, 1)\n",
    "subplot.contourf(ds_pt.sel(level=level), style=t_style)\n",
    "subplot.title(\"{shortName} {level} hPa\")\n",
    "subplot.legend()\n",
    "\n",
    "figure.coastlines()\n",
    "figure.gridlines()\n",
    "\n",
    "figure.show()"
   ]
  },
  {
   "cell_type": "markdown",
   "id": "d24afc3a-988d-4611-83ec-3ceefe8f2769",
   "metadata": {},
   "source": [
    "### 4. Computing the wind speed"
   ]
  },
  {
   "cell_type": "markdown",
   "id": "7d8322b3-f869-4698-9ca5-4e44af27a223",
   "metadata": {},
   "source": [
    "This example computes the wind speed with  [earthkit.meteo.wind.speed](https://earthkit-meteo.readthedocs.io/en/latest/autoapi/earthkit/meteo/wind/array/speed.html#earthkit.meteo.wind.array.speed)."
   ]
  },
  {
   "cell_type": "code",
   "execution_count": null,
   "id": "93825dbc-637d-49dd-b5f6-171022ad3fd4",
   "metadata": {},
   "outputs": [],
   "source": [
    "from earthkit.meteo import wind\n",
    "\n",
    "# select the u and v fields. We assume here they\n",
    "# are valid for the same set of levels\n",
    "u = ds.sel(param=\"u\")\n",
    "v = ds.sel(param=\"v\")\n",
    "\n",
    "res = []\n",
    "\n",
    "# loop and perform the computation per field, i.e per level\n",
    "for f_u, f_v in zip(u, v):\n",
    "    u_vals = f_u.values\n",
    "    v_vals = f_v.values\n",
    "    \n",
    "    # do the computation\n",
    "    ws_vals = wind.speed(u_vals, v_vals)\n",
    "   \n",
    "    # encode a new GRIB field with the right shortName (in memory)\n",
    "    md = f_u.metadata().override(shortName=\"ws\")\n",
    "    f_new = ek.data.ArrayField(ws_vals, metadata=md)\n",
    "    \n",
    "    res.append(f_new)\n",
    "\n",
    "# create the resulting fieldlist    \n",
    "ds_ws = ek.data.FieldList.from_fields(res)"
   ]
  },
  {
   "cell_type": "markdown",
   "id": "9a38385e-b454-4d11-a367-26a7c50956bb",
   "metadata": {},
   "source": [
    "Check the results."
   ]
  },
  {
   "cell_type": "code",
   "execution_count": null,
   "id": "f4e43ca4-d736-4315-a359-47a4d90dcd9b",
   "metadata": {},
   "outputs": [],
   "source": [
    "ds_ws.ls()"
   ]
  },
  {
   "cell_type": "markdown",
   "id": "7c5df0e4-7791-46c5-82a2-985e0e47be74",
   "metadata": {},
   "source": [
    "The next cell plots the wind arrows and the computed speed over a subarea for a given level."
   ]
  },
  {
   "cell_type": "code",
   "execution_count": null,
   "id": "351b4019-c95f-4179-bc29-9ae88c956d62",
   "metadata": {},
   "outputs": [],
   "source": [
    "import cartopy.crs as ccrs\n",
    "\n",
    "level = 850\n",
    "\n",
    "chart = ek.plots.Map(domain=\"Europe\", size=(6,6))\n",
    "chart.contourf(ds_ws.sel(level=level), units=\"m s-1\", colors=\"Greens\", \n",
    "               levels=list(range(4,22,2)), alpha=1)\n",
    "chart.quiver(u=u.sel(level=level), v=v.sel(level=level))\n",
    "chart.coastlines()\n",
    "chart.gridlines()\n",
    "chart.legend()\n",
    "chart.title((\"{time:%Y-%m-%d %H} UTC (+{lead_time}h) {level} hPa\"))\n",
    "\n",
    "chart.show()"
   ]
  },
  {
   "cell_type": "markdown",
   "id": "4227de5a-31c9-4c17-9ed8-c37188e076c2",
   "metadata": {},
   "source": [
    "### Exercises\n",
    "\n",
    "1. Write code to compute the **relative humidity** from temperature (t) and specific humidity (q) with [meteo.thermo.relative_humidity_from_specific_humidity](https://earthkit-meteo.readthedocs.io/en/latest/autoapi/earthkit/meteo/thermo/array/relative_humidity_from_specific_humidity.html#earthkit.meteo.thermo.array.relative_humidity_from_specific_humidity)\n",
    "1. Plot the computed relative humidity fields\n",
    "\n",
    "Hints:\n",
    "- Use Chapter 3 as a template. You need to loop through the t and q fields together (use zip for it just like in Chapter 4)\n",
    "- The ecCodes GRIB shortName to set for relative humidity is \"r\"\n",
    "- You can quickly plot a given level from the results e.g. with `ek.plots.quickplot(ds_r.sel(level=700)).show()` (assuming the result is called \"ds_r\").\n",
    "\n",
    "Solutions:\n",
    "- see solutions/compute_rel_hum.ipynb"
   ]
  },
  {
   "cell_type": "code",
   "execution_count": null,
   "id": "2eb1fd70-fe08-4647-8952-be89f7eaf494",
   "metadata": {},
   "outputs": [],
   "source": []
  }
 ],
 "metadata": {
  "kernelspec": {
   "display_name": "ek_new",
   "language": "python",
   "name": "ek_new"
  },
  "language_info": {
   "codemirror_mode": {
    "name": "ipython",
    "version": 3
   },
   "file_extension": ".py",
   "mimetype": "text/x-python",
   "name": "python",
   "nbconvert_exporter": "python",
   "pygments_lexer": "ipython3",
   "version": "3.13.1"
  }
 },
 "nbformat": 4,
 "nbformat_minor": 5
}
