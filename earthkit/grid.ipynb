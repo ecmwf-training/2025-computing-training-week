{
 "cells": [
  {
   "cell_type": "markdown",
   "id": "070454b3-b5dc-42c5-822a-b0ccf45e1962",
   "metadata": {},
   "source": [
    "## Grid explorer"
   ]
  },
  {
   "cell_type": "markdown",
   "id": "c37e1a22-7ee6-4df0-b0c9-d98816595b51",
   "metadata": {},
   "source": [
    "In this notebook you will see how to:\n",
    "\n",
    "- inspect the grid properties of GRIB data\n",
    "- access the latitudes/longitudes of a field\n",
    "- plot the gridpoints of a field\n",
    "- interpolate GRIB data from one grid to another (regridding)\n",
    "- extract the nearest gridpoint from a field\n",
    "\n",
    "### Components of earthkit\n",
    "\n",
    "This tutorial uses the following earthkit components - click any logo to open the package documentation:\n",
    "\n",
    "<div align=\"center\">\n",
    "  <br>\n",
    "  <a href=\"https://earthkit-data.readthedocs.io/en/latest/\" target=\"_blank\" style=\"display:inline-block; margin: 0 15px;\">\n",
    "    <img src=\"https://raw.githubusercontent.com/ecmwf/logos/refs/heads/main/logos/earthkit/earthkit-data-light.svg\" alt=\"earthkit-data\" width=\"200\">\n",
    "  </a>\n",
    "  <a href=\"https://earthkit-plots.readthedocs.io/en/latest/\" target=\"_blank\" style=\"display:inline-block; margin: 0 15px;\">\n",
    "    <img src=\"https://raw.githubusercontent.com/ecmwf/logos/refs/heads/main/logos/earthkit/earthkit-plots-light.svg\" alt=\"earthkit-plots\" width=\"200\">\n",
    "  </a> \n",
    "  <a href=\"https://earthkit-regrid.readthedocs.io/en/latest/\" target=\"_blank\" style=\"display:inline-block; margin: 0 15px;\">\n",
    "    <img src=\"https://raw.githubusercontent.com/ecmwf/logos/refs/heads/main/logos/earthkit/earthkit-regrid-light.svg\" alt=\"earthkit-regrid\" width=\"200\">\n",
    "  </a>\n",
    "  <a href=\"https://earthkit-geo.readthedocs.io/en/latest/\" target=\"_blank\" style=\"display:inline-block; margin: 0 15px;\">\n",
    "    <img src=\"https://raw.githubusercontent.com/ecmwf/logos/refs/heads/main/logos/earthkit/earthkit-geo-light.svg\" alt=\"earthkit-geo\" width=\"200\">\n",
    "  </a>\n",
    "</div>"
   ]
  },
  {
   "cell_type": "markdown",
   "id": "6768bc1e-ac3f-4c65-b09d-7a52355d1625",
   "metadata": {},
   "source": [
    "### 1. Getting the data"
   ]
  },
  {
   "cell_type": "markdown",
   "id": "70f61e01-f34c-419e-a969-88499db76cd0",
   "metadata": {},
   "source": [
    "The input data is a GRIB file containing 1000 hPa temperature fields on 3 different global grids. \n",
    "\n",
    "First, fetch the file and list its contents."
   ]
  },
  {
   "cell_type": "code",
   "execution_count": 1,
   "id": "ab1c6960-2e25-4ca4-a1ac-b200d6d2e817",
   "metadata": {},
   "outputs": [
    {
     "name": "stdout",
     "output_type": "stream",
     "text": [
      "Adding method <property object at 0x30b5daf70> from <class 'earthkit.data.specs.time.Time'>.base_datetime\n",
      "Adding method <property object at 0x30b5db010> from <class 'earthkit.data.specs.time.Time'>.valid_datetime\n",
      "Adding method <property object at 0x30b5dbec0> from <class 'earthkit.data.specs.time.Time'>.step\n",
      "Adding method <property object at 0x30b5dbfb0> from <class 'earthkit.data.specs.time.Time'>.forecast_reference_time\n",
      "Adding method <property object at 0x30b600040> from <class 'earthkit.data.specs.time.Time'>.forecast_period\n",
      "ALL_KEYS for <class 'earthkit.data.specs.field.time.TimeFieldSpec'>: ['base_datetime', 'valid_datetime', 'step', 'forecast_reference_time', 'forecast_period']\n"
     ]
    },
    {
     "ename": "TypeError",
     "evalue": "argument of type 'NoneType' is not iterable",
     "output_type": "error",
     "traceback": [
      "\u001b[31m---------------------------------------------------------------------------\u001b[39m",
      "\u001b[31mTypeError\u001b[39m                                 Traceback (most recent call last)",
      "\u001b[36mCell\u001b[39m\u001b[36m \u001b[39m\u001b[32mIn[1]\u001b[39m\u001b[32m, line 4\u001b[39m\n\u001b[32m      1\u001b[39m \u001b[38;5;28;01mimport\u001b[39;00m \u001b[34;01mearthkit\u001b[39;00m \u001b[38;5;28;01mas\u001b[39;00m \u001b[34;01mek\u001b[39;00m\n\u001b[32m      3\u001b[39m ds = ek.data.from_source(\u001b[33m\"\u001b[39m\u001b[33msample\u001b[39m\u001b[33m\"\u001b[39m, \u001b[33m\"\u001b[39m\u001b[33mgrids_3.grib\u001b[39m\u001b[33m\"\u001b[39m)\n\u001b[32m----> \u001b[39m\u001b[32m4\u001b[39m \u001b[43mds\u001b[49m\u001b[43m.\u001b[49m\u001b[43mls\u001b[49m\u001b[43m(\u001b[49m\u001b[43m)\u001b[49m\n",
      "\u001b[36mFile \u001b[39m\u001b[32m~/git/earthkit-data/src/earthkit/data/indexing/fieldlist.py:341\u001b[39m, in \u001b[36mFieldList.ls\u001b[39m\u001b[34m(self, n, keys, extra_keys, namespace)\u001b[39m\n\u001b[32m    338\u001b[39m             \u001b[38;5;28;01myield\u001b[39;00m (\u001b[38;5;28mself\u001b[39m[i]._get_fast(keys, output=\u001b[38;5;28mdict\u001b[39m))\n\u001b[32m    340\u001b[39m _keys = \u001b[38;5;28mself\u001b[39m._default_ls_keys() \u001b[38;5;28;01mif\u001b[39;00m namespace \u001b[38;5;129;01mis\u001b[39;00m \u001b[38;5;28;01mNone\u001b[39;00m \u001b[38;5;28;01melse\u001b[39;00m \u001b[38;5;28mdict\u001b[39m(namespace=namespace)\n\u001b[32m--> \u001b[39m\u001b[32m341\u001b[39m \u001b[38;5;28;01mreturn\u001b[39;00m \u001b[43mls\u001b[49m\u001b[43m(\u001b[49m\u001b[43m_proc\u001b[49m\u001b[43m,\u001b[49m\u001b[43m \u001b[49m\u001b[43m_keys\u001b[49m\u001b[43m,\u001b[49m\u001b[43m \u001b[49m\u001b[43mn\u001b[49m\u001b[43m=\u001b[49m\u001b[43mn\u001b[49m\u001b[43m,\u001b[49m\u001b[43m \u001b[49m\u001b[43mkeys\u001b[49m\u001b[43m=\u001b[49m\u001b[43mkeys\u001b[49m\u001b[43m,\u001b[49m\u001b[43m \u001b[49m\u001b[43mextra_keys\u001b[49m\u001b[43m=\u001b[49m\u001b[43mextra_keys\u001b[49m\u001b[43m)\u001b[49m\n",
      "\u001b[36mFile \u001b[39m\u001b[32m~/git/earthkit-data/src/earthkit/data/utils/summary.py:75\u001b[39m, in \u001b[36mls\u001b[39m\u001b[34m(metadata_proc, default_keys, n, keys, extra_keys, **kwargs)\u001b[39m\n\u001b[32m     72\u001b[39m \u001b[38;5;28;01mif\u001b[39;00m n == \u001b[32m0\u001b[39m:\n\u001b[32m     73\u001b[39m     \u001b[38;5;28;01mraise\u001b[39;00m \u001b[38;5;167;01mValueError\u001b[39;00m(\u001b[33m\"\u001b[39m\u001b[33mn cannot be 0\u001b[39m\u001b[33m\"\u001b[39m)\n\u001b[32m---> \u001b[39m\u001b[32m75\u001b[39m \u001b[38;5;28;01mreturn\u001b[39;00m \u001b[43mformat_ls\u001b[49m\u001b[43m(\u001b[49m\u001b[43mmetadata_proc\u001b[49m\u001b[43m(\u001b[49m\u001b[43m_keys\u001b[49m\u001b[43m,\u001b[49m\u001b[43m \u001b[49m\u001b[43mn\u001b[49m\u001b[43m)\u001b[49m\u001b[43m)\u001b[49m\n",
      "\u001b[36mFile \u001b[39m\u001b[32m~/git/earthkit-data/src/earthkit/data/utils/summary.py:81\u001b[39m, in \u001b[36mformat_ls\u001b[39m\u001b[34m(attributes)\u001b[39m\n\u001b[32m     78\u001b[39m \u001b[38;5;28;01mdef\u001b[39;00m \u001b[34mformat_ls\u001b[39m(attributes):\n\u001b[32m     79\u001b[39m     \u001b[38;5;28;01mimport\u001b[39;00m \u001b[34;01mpandas\u001b[39;00m \u001b[38;5;28;01mas\u001b[39;00m \u001b[34;01mpd\u001b[39;00m\n\u001b[32m---> \u001b[39m\u001b[32m81\u001b[39m     df = \u001b[43mpd\u001b[49m\u001b[43m.\u001b[49m\u001b[43mDataFrame\u001b[49m\u001b[43m.\u001b[49m\u001b[43mfrom_records\u001b[49m\u001b[43m(\u001b[49m\u001b[43mattributes\u001b[49m\u001b[43m)\u001b[49m\n\u001b[32m     82\u001b[39m     \u001b[38;5;28;01mreturn\u001b[39;00m df\n",
      "\u001b[36mFile \u001b[39m\u001b[32m/opt/homebrew/Caskroom/miniforge/base/envs/dev/lib/python3.11/site-packages/pandas/core/frame.py:2450\u001b[39m, in \u001b[36mDataFrame.from_records\u001b[39m\u001b[34m(cls, data, index, exclude, columns, coerce_float, nrows)\u001b[39m\n\u001b[32m   2447\u001b[39m     \u001b[38;5;28;01mreturn\u001b[39;00m \u001b[38;5;28mcls\u001b[39m()\n\u001b[32m   2449\u001b[39m \u001b[38;5;28;01mtry\u001b[39;00m:\n\u001b[32m-> \u001b[39m\u001b[32m2450\u001b[39m     first_row = \u001b[38;5;28;43mnext\u001b[39;49m\u001b[43m(\u001b[49m\u001b[43mdata\u001b[49m\u001b[43m)\u001b[49m\n\u001b[32m   2451\u001b[39m \u001b[38;5;28;01mexcept\u001b[39;00m \u001b[38;5;167;01mStopIteration\u001b[39;00m:\n\u001b[32m   2452\u001b[39m     \u001b[38;5;28;01mreturn\u001b[39;00m \u001b[38;5;28mcls\u001b[39m(index=index, columns=columns)\n",
      "\u001b[36mFile \u001b[39m\u001b[32m~/git/earthkit-data/src/earthkit/data/indexing/fieldlist.py:338\u001b[39m, in \u001b[36mFieldList.ls.<locals>._proc\u001b[39m\u001b[34m(keys, n)\u001b[39m\n\u001b[32m    336\u001b[39m \u001b[38;5;28;01melse\u001b[39;00m:\n\u001b[32m    337\u001b[39m     \u001b[38;5;28;01mfor\u001b[39;00m i \u001b[38;5;129;01min\u001b[39;00m pos_range:\n\u001b[32m--> \u001b[39m\u001b[32m338\u001b[39m         \u001b[38;5;28;01myield\u001b[39;00m (\u001b[38;5;28;43mself\u001b[39;49m\u001b[43m[\u001b[49m\u001b[43mi\u001b[49m\u001b[43m]\u001b[49m\u001b[43m.\u001b[49m\u001b[43m_get_fast\u001b[49m\u001b[43m(\u001b[49m\u001b[43mkeys\u001b[49m\u001b[43m,\u001b[49m\u001b[43m \u001b[49m\u001b[43moutput\u001b[49m\u001b[43m=\u001b[49m\u001b[38;5;28;43mdict\u001b[39;49m\u001b[43m)\u001b[49m)\n",
      "\u001b[36mFile \u001b[39m\u001b[32m~/git/earthkit-data/src/earthkit/data/core/field.py:552\u001b[39m, in \u001b[36mField._get_fast\u001b[39m\u001b[34m(self, keys, default, astype, raise_on_missing, output, remapping, joiner)\u001b[39m\n\u001b[32m    550\u001b[39m \u001b[38;5;28;01melif\u001b[39;00m output \u001b[38;5;129;01mis\u001b[39;00m \u001b[38;5;28mdict\u001b[39m:\n\u001b[32m    551\u001b[39m     \u001b[38;5;28;01mif\u001b[39;00m astype \u001b[38;5;129;01mis\u001b[39;00m \u001b[38;5;28;01mNone\u001b[39;00m:\n\u001b[32m--> \u001b[39m\u001b[32m552\u001b[39m         \u001b[38;5;28;01mreturn\u001b[39;00m \u001b[43m{\u001b[49m\u001b[43mk\u001b[49m\u001b[43m:\u001b[49m\u001b[43m \u001b[49m\u001b[43mmeth\u001b[49m\u001b[43m(\u001b[49m\u001b[43mk\u001b[49m\u001b[43m,\u001b[49m\u001b[43m \u001b[49m\u001b[43mastype\u001b[49m\u001b[43m=\u001b[49m\u001b[43mastype\u001b[49m\u001b[43m,\u001b[49m\u001b[43m \u001b[49m\u001b[43m*\u001b[49m\u001b[43m*\u001b[49m\u001b[43m_kwargs\u001b[49m\u001b[43m)\u001b[49m\u001b[43m \u001b[49m\u001b[38;5;28;43;01mfor\u001b[39;49;00m\u001b[43m \u001b[49m\u001b[43mk\u001b[49m\u001b[43m \u001b[49m\u001b[38;5;129;43;01min\u001b[39;49;00m\u001b[43m \u001b[49m\u001b[43mkeys\u001b[49m\u001b[43m}\u001b[49m\n\u001b[32m    553\u001b[39m     \u001b[38;5;28;01melse\u001b[39;00m:\n\u001b[32m    554\u001b[39m         \u001b[38;5;28;01mreturn\u001b[39;00m {k: meth(k, astype=kt, **_kwargs) \u001b[38;5;28;01mfor\u001b[39;00m k, kt \u001b[38;5;129;01min\u001b[39;00m \u001b[38;5;28mzip\u001b[39m(keys, astype)}\n",
      "\u001b[36mFile \u001b[39m\u001b[32m~/git/earthkit-data/src/earthkit/data/core/field.py:552\u001b[39m, in \u001b[36m<dictcomp>\u001b[39m\u001b[34m(.0)\u001b[39m\n\u001b[32m    550\u001b[39m \u001b[38;5;28;01melif\u001b[39;00m output \u001b[38;5;129;01mis\u001b[39;00m \u001b[38;5;28mdict\u001b[39m:\n\u001b[32m    551\u001b[39m     \u001b[38;5;28;01mif\u001b[39;00m astype \u001b[38;5;129;01mis\u001b[39;00m \u001b[38;5;28;01mNone\u001b[39;00m:\n\u001b[32m--> \u001b[39m\u001b[32m552\u001b[39m         \u001b[38;5;28;01mreturn\u001b[39;00m {k: \u001b[43mmeth\u001b[49m\u001b[43m(\u001b[49m\u001b[43mk\u001b[49m\u001b[43m,\u001b[49m\u001b[43m \u001b[49m\u001b[43mastype\u001b[49m\u001b[43m=\u001b[49m\u001b[43mastype\u001b[49m\u001b[43m,\u001b[49m\u001b[43m \u001b[49m\u001b[43m*\u001b[49m\u001b[43m*\u001b[49m\u001b[43m_kwargs\u001b[49m\u001b[43m)\u001b[49m \u001b[38;5;28;01mfor\u001b[39;00m k \u001b[38;5;129;01min\u001b[39;00m keys}\n\u001b[32m    553\u001b[39m     \u001b[38;5;28;01melse\u001b[39;00m:\n\u001b[32m    554\u001b[39m         \u001b[38;5;28;01mreturn\u001b[39;00m {k: meth(k, astype=kt, **_kwargs) \u001b[38;5;28;01mfor\u001b[39;00m k, kt \u001b[38;5;129;01min\u001b[39;00m \u001b[38;5;28mzip\u001b[39m(keys, astype)}\n",
      "\u001b[36mFile \u001b[39m\u001b[32m~/git/earthkit-data/src/earthkit/data/core/field.py:492\u001b[39m, in \u001b[36mField.get_single\u001b[39m\u001b[34m(self, key, default, astype, raise_on_missing, remapping, patches)\u001b[39m\n\u001b[32m    490\u001b[39m     \u001b[38;5;28;01mreturn\u001b[39;00m v\n\u001b[32m    491\u001b[39m \u001b[38;5;66;03m# next try the labels with the full key\u001b[39;00m\n\u001b[32m--> \u001b[39m\u001b[32m492\u001b[39m \u001b[38;5;28;01melif\u001b[39;00m \u001b[43mkey\u001b[49m\u001b[43m \u001b[49m\u001b[38;5;129;43;01min\u001b[39;49;00m\u001b[43m \u001b[49m\u001b[38;5;28;43mself\u001b[39;49m\u001b[43m.\u001b[49m\u001b[43m_labels\u001b[49m:\n\u001b[32m    493\u001b[39m     \u001b[38;5;28;01mreturn\u001b[39;00m \u001b[38;5;28mself\u001b[39m._labels.get(key, default=default, astype=astype, raise_on_missing=raise_on_missing)\n\u001b[32m    494\u001b[39m \u001b[38;5;66;03m# try the private members\u001b[39;00m\n",
      "\u001b[31mTypeError\u001b[39m: argument of type 'NoneType' is not iterable"
     ]
    }
   ],
   "source": [
    "import earthkit as ek\n",
    "\n",
    "ds = ek.data.from_source(\"sample\", \"grids_3.grib\")\n",
    "ds.ls()"
   ]
  },
  {
   "cell_type": "markdown",
   "id": "cddbcc7b-5232-4a91-8fcc-c77cc5f1bc00",
   "metadata": {},
   "source": [
    "Next, select the field you will inspect in the rest of the notebook.\n",
    "\n",
    "To try another grid type change the `gridType` in the `sel()` call below and rerun the notebook."
   ]
  },
  {
   "cell_type": "code",
   "execution_count": null,
   "id": "cae23903-dcdf-4f0a-8d3f-9b8adf691daf",
   "metadata": {},
   "outputs": [],
   "source": [
    "# choose one from: regular_ll, reduced_gg, healpix\n",
    "f = ds.sel(gridType=\"healpix\")[0] \n",
    "f.metadata(\"gridType\")"
   ]
  },
  {
   "cell_type": "markdown",
   "id": "27bd00c8-ea7a-4349-8b92-943ff7a6282e",
   "metadata": {},
   "source": [
    "### 2. Inspecting the grid"
   ]
  },
  {
   "cell_type": "markdown",
   "id": "96701d5e-fd70-4468-baf0-2908e4d4f1d3",
   "metadata": {},
   "source": [
    "With `dump()` you can inspect all the relevant GRIB metadata."
   ]
  },
  {
   "cell_type": "code",
   "execution_count": null,
   "id": "1736fb73-2868-43f0-b0e1-abfd4eddba41",
   "metadata": {},
   "outputs": [],
   "source": [
    "f.dump(namespace=\"geography\")"
   ]
  },
  {
   "cell_type": "markdown",
   "id": "97e48622-1c7b-4d26-860e-8042c4551e48",
   "metadata": {},
   "source": [
    "The field's shape is derived from the geography. For grids with  regular 2D structure, like regular latitude-longitude grids, the shape is always 2D. Otherwise, like for reduced Gaussian grids, it is 1D."
   ]
  },
  {
   "cell_type": "code",
   "execution_count": null,
   "id": "86ab890d-200a-411a-bebe-8fce1555efc1",
   "metadata": {},
   "outputs": [],
   "source": [
    "f.shape"
   ]
  },
  {
   "cell_type": "markdown",
   "id": "8de208e5-5c93-4d1a-b54d-ff4e906d2f6c",
   "metadata": {},
   "source": [
    "When you access the latitudes and longitudes via `to_latlon()` you get numpy arrays with the field's shape."
   ]
  },
  {
   "cell_type": "code",
   "execution_count": null,
   "id": "8e46eaba-d818-4928-ab2d-ca69c1e27f42",
   "metadata": {},
   "outputs": [],
   "source": [
    "ll = f.to_latlon()\n",
    "ll[\"lat\"].shape, ll[\"lon\"].shape"
   ]
  },
  {
   "cell_type": "code",
   "execution_count": null,
   "id": "80d85c4a-de8d-40a3-acd3-0a978db82236",
   "metadata": {},
   "outputs": [],
   "source": [
    "ll[\"lon\"]"
   ]
  },
  {
   "cell_type": "code",
   "execution_count": null,
   "id": "ed403d88-bfcb-465c-a302-904712ba24f4",
   "metadata": {},
   "outputs": [],
   "source": [
    "ll[\"lat\"]"
   ]
  },
  {
   "cell_type": "markdown",
   "id": "3b6c751e-1566-4a48-be7b-af49c0cfa854",
   "metadata": {},
   "source": [
    "You can access the field values either with `to_numpy()` or via the `values` property. By default, `to_numpy()` respects the field's shape unless you use the `flatten=True` option."
   ]
  },
  {
   "cell_type": "code",
   "execution_count": null,
   "id": "35b72b89-eecb-4e30-b636-8d0f4dbda037",
   "metadata": {},
   "outputs": [],
   "source": [
    "f.to_numpy().shape, f.to_numpy(flatten=True).shape"
   ]
  },
  {
   "cell_type": "markdown",
   "id": "2abe4a1d-1a3d-4c6d-b137-82e6f92c9b9c",
   "metadata": {},
   "source": [
    "When using the `values` property always a 1D array is returned."
   ]
  },
  {
   "cell_type": "code",
   "execution_count": null,
   "id": "d671eb16-8ac8-4fc3-b5a7-ef615accf8c6",
   "metadata": {},
   "outputs": [],
   "source": [
    "f.values.shape"
   ]
  },
  {
   "cell_type": "markdown",
   "id": "ea3fa585-daab-4087-9e69-30fb8ee81a69",
   "metadata": {},
   "source": [
    "### 3. Plotting the gridpoints"
   ]
  },
  {
   "cell_type": "markdown",
   "id": "3a861224-dc88-41b0-8a21-1b558ce0e504",
   "metadata": {},
   "source": [
    "This example shows you how to plot the original gridpoint positions of the field."
   ]
  },
  {
   "cell_type": "code",
   "execution_count": null,
   "id": "30451b60-93ca-4162-9833-f1690f3e6aa4",
   "metadata": {
    "scrolled": true
   },
   "outputs": [],
   "source": [
    "chart = ek.plots.Map(size=(7,7))\n",
    "chart.contourf(f, units=\"celsius\", auto_style=True)\n",
    "# plot the original grid points\n",
    "chart.grid_points(f, c=\"black\") #marker=\"+\"\n",
    "chart.title(f\"gridType={f.metadata('gridType')}\")\n",
    "chart.coastlines()\n",
    "chart.gridlines()\n",
    "chart.legend()\n",
    "\n",
    "chart.show()"
   ]
  },
  {
   "cell_type": "markdown",
   "id": "faab904c-e612-4024-9e35-16a01e8889dc",
   "metadata": {},
   "source": [
    "The next plot shows a smaller area and displays the grid values at each grid point."
   ]
  },
  {
   "cell_type": "code",
   "execution_count": null,
   "id": "20d37262-e22f-4900-b957-9b59457e9be3",
   "metadata": {},
   "outputs": [],
   "source": [
    "import cartopy.crs as ccrs\n",
    "\n",
    "chart = ek.plots.Map(domain=\"Europe\")\n",
    "chart.contourf(f, units=\"celsius\", auto_style=True)\n",
    "# plot the original grid points\n",
    "chart.grid_points(f, c=\"black\") #marker=\"+\"\n",
    "\n",
    "# generate grid values\n",
    "lat, lon, vals = f.data(flatten=True)\n",
    "labels = [f\"{x:.1f}\" for x in vals]\n",
    "for i, lbs in enumerate(labels):\n",
    "    chart.ax.annotate(lbs, (lon[i], lat[i]), transform=ccrs.Geodetic(), \n",
    "                      xytext=(0,5),\n",
    "                      textcoords=\"offset pixels\", \n",
    "                      annotation_clip=True, \n",
    "                      fontsize=6, horizontalalignment=\"center\")\n",
    "\n",
    "chart.title(f\"gridType={f.metadata('gridType')}\")\n",
    "chart.coastlines()\n",
    "chart.gridlines()\n",
    "chart.legend()\n",
    "\n",
    "chart.show()"
   ]
  },
  {
   "cell_type": "markdown",
   "id": "5be96e5b-63ea-4963-b6ca-71b450d5b920",
   "metadata": {},
   "source": [
    "### 4. Regridding"
   ]
  },
  {
   "cell_type": "markdown",
   "id": "8af58eff-b364-499a-bc60-2ad4c9718b13",
   "metadata": {},
   "source": [
    "You can regrid data with [earthkit.regrid.interpolate()](https://earthkit-regrid.readthedocs.io/en/latest/interpolate.html#interpolate). At the moment, earthkit-regrid uses a set of pre-generated interpolation weights downloaded automatically from a remote ECMWF repository. Only a limited set of global grid-to-grid combinations are supported (the ones the interpolation weights are available for). For the full list see the [inventory](https://earthkit-regrid.readthedocs.io/en/latest/inventory/index.html)."
   ]
  },
  {
   "cell_type": "code",
   "execution_count": null,
   "id": "6c00e247-eac9-45ea-9fe8-0328fcbde357",
   "metadata": {},
   "outputs": [],
   "source": [
    "# the target grid is a global 10x10 degree regular latitude-longitude grid\n",
    "grid = {\"grid\": [10,10]}\n",
    "\n",
    "# interpolate cannot read a single field but a fieldlist, so \n",
    "# we convert f into a fieldlist\n",
    "ds_f =  ek.data.FieldList.from_fields([f])\n",
    "\n",
    "# perform interpolation for each field and add results\n",
    "# to a new fieldlist stored in memory\n",
    "ds_res = ek.regrid.interpolate(ds_f, out_grid=grid, interpolation=\"linear\")"
   ]
  },
  {
   "cell_type": "markdown",
   "id": "177af6ba-7ef4-430e-9cf2-0ff443964310",
   "metadata": {},
   "source": [
    "The next cell plots the original and interpolated fields over a subarea."
   ]
  },
  {
   "cell_type": "code",
   "execution_count": null,
   "id": "c1ff3127-c808-4ca3-ae70-25131c3153bb",
   "metadata": {},
   "outputs": [],
   "source": [
    "figure = ek.plots.Figure(domain=\"North Atlantic\", rows=2, columns=1)\n",
    "\n",
    "# the original field\n",
    "subplot = figure.add_map(0, 0)\n",
    "subplot.contourf(f, units=\"celsius\", auto_style=True)\n",
    "subplot.grid_points(f, c=\"black\")\n",
    "subplot.title(\"Original field\")\n",
    "# subplot.legend(label=\"\")\n",
    "\n",
    "# the interpolated field\n",
    "subplot = figure.add_map(1, 0)\n",
    "subplot.contourf(ds_res[0], units=\"celsius\", auto_style=True)\n",
    "subplot.grid_points(ds_res[0], c=\"black\")\n",
    "subplot.title(\"Interpolated field\")\n",
    "# subplot.legend(label=\"\")\n",
    "\n",
    "figure.coastlines()\n",
    "figure.gridlines()\n",
    "\n",
    "figure.show()"
   ]
  },
  {
   "cell_type": "markdown",
   "id": "74856632-c2e7-4d49-aa9c-2b5200709c71",
   "metadata": {},
   "source": [
    "### 5. Getting the nearest gridpoint"
   ]
  },
  {
   "cell_type": "markdown",
   "id": "84722900-7cfe-40d9-b52f-1b278b3beed2",
   "metadata": {},
   "source": [
    "In this example you can see how to extract the nearest gridpoint value of a field using [earthkit.geo.nearest_point_haversine()](https://earthkit-geo.readthedocs.io/en/latest/_api/geo/distance/index.html#geo.distance.nearest_point_haversine)."
   ]
  },
  {
   "cell_type": "code",
   "execution_count": null,
   "id": "93205b0d-aaa7-42f7-a39c-90cbc0e14d8c",
   "metadata": {},
   "outputs": [],
   "source": [
    "# ref location (lat, lon)\n",
    "p_ref = (51.45, -0.97)\n",
    "\n",
    "# get latlon\n",
    "latlon = f.to_latlon()\n",
    "lat = latlon[\"lat\"]\n",
    "lon = latlon[\"lon\"]\n",
    "\n",
    "# get nearest point index\n",
    "idx, dist = ek.geo.nearest_point_haversine(p_ref, (lat, lon))\n",
    "idx"
   ]
  },
  {
   "cell_type": "code",
   "execution_count": null,
   "id": "34d9a5f3-0866-4bcf-8756-0a05ea26bc6c",
   "metadata": {},
   "outputs": [],
   "source": [
    "# extract field value at given index\n",
    "f.values[idx]"
   ]
  },
  {
   "cell_type": "code",
   "execution_count": null,
   "id": "58eb9f49-15f0-4b6f-bf1a-2dfd5cb70fc4",
   "metadata": {},
   "outputs": [],
   "source": []
  }
 ],
 "metadata": {
  "kernelspec": {
   "display_name": "dev",
   "language": "python",
   "name": "dev"
  },
  "language_info": {
   "codemirror_mode": {
    "name": "ipython",
    "version": 3
   },
   "file_extension": ".py",
   "mimetype": "text/x-python",
   "name": "python",
   "nbconvert_exporter": "python",
   "pygments_lexer": "ipython3",
   "version": "3.11.12"
  }
 },
 "nbformat": 4,
 "nbformat_minor": 5
}
